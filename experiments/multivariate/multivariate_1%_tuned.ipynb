{
 "cells": [
  {
   "cell_type": "code",
   "execution_count": 1,
   "id": "0",
   "metadata": {},
   "outputs": [],
   "source": [
    "# for correct relative imports\n",
    "import sys; sys.path.append(\"../var_dgm\")"
   ]
  },
  {
   "cell_type": "code",
   "execution_count": 2,
   "id": "1",
   "metadata": {},
   "outputs": [],
   "source": [
    "import warnings\n",
    "warnings.filterwarnings(\"ignore\")\n",
    "\n",
    "import torch\n",
    "from torch.utils.data import DataLoader, TensorDataset\n",
    "\n",
    "from diffusers import DDPMScheduler\n",
    "import pandas as pd\n",
    "import numpy as np\n",
    "from tqdm.auto import tqdm\n",
    "import matplotlib.pyplot as plt\n",
    "import seaborn as sns\n",
    "import pprint\n",
    "\n",
    "from sklearn.preprocessing import StandardScaler\n",
    "\n",
    "from var_dgm import TimeGrad\n",
    "from var_dgm.basic_models import HistoricalSimulation, VarCov\n",
    "from var_dgm.stat_tests import generate_report\n",
    "from var_dgm.utils import seed_everything, compute_individual_returns, compute_portfolio_returns, estimate_var_es_torch_multivariate"
   ]
  },
  {
   "cell_type": "code",
   "execution_count": 3,
   "id": "2",
   "metadata": {},
   "outputs": [],
   "source": [
    "sns.set_style(\"darkgrid\", {\"axes.facecolor\": \".9\"})\n",
    "sns.set_context(\"paper\")"
   ]
  },
  {
   "cell_type": "code",
   "execution_count": 4,
   "id": "3",
   "metadata": {},
   "outputs": [],
   "source": [
    "DATA_FOLDER = \"../../data/\"\n",
    "df = pd.read_csv(DATA_FOLDER + \"complete_stocks.csv\")\n",
    "df[\"Date\"] = pd.to_datetime(df[\"Date\"])"
   ]
  },
  {
   "cell_type": "code",
   "execution_count": 5,
   "id": "4",
   "metadata": {},
   "outputs": [
    {
     "data": {
      "text/plain": [
       "89"
      ]
     },
     "execution_count": 5,
     "metadata": {},
     "output_type": "execute_result"
    }
   ],
   "source": [
    "len(df[\"Ticker\"].unique())"
   ]
  },
  {
   "cell_type": "code",
   "execution_count": 6,
   "id": "5",
   "metadata": {},
   "outputs": [],
   "source": [
    "res_timeGrad = list()\n",
    "res_hist = list()\n",
    "res_varcov = list()\n",
    "alpha = 0.01"
   ]
  },
  {
   "cell_type": "code",
   "execution_count": 7,
   "id": "6",
   "metadata": {},
   "outputs": [],
   "source": [
    "RANDOM_STATE = 12"
   ]
  },
  {
   "cell_type": "code",
   "execution_count": 8,
   "id": "7",
   "metadata": {},
   "outputs": [
    {
     "name": "stdout",
     "output_type": "stream",
     "text": [
      "Portfolio = 0.1 * INTC + 0.1 * DHR + 0.1 * COP + 0.1 * MRK + 0.1 * HON + 0.1 * T + 0.1 * MSFT + 0.1 * AXP + 0.1 * PEP + 0.1 * SYK\n"
     ]
    },
    {
     "data": {
      "application/vnd.jupyter.widget-view+json": {
       "model_id": "9296378b76fb4becaed885a33a9357ff",
       "version_major": 2,
       "version_minor": 0
      },
      "text/plain": [
       "  0%|          | 0/10 [00:00<?, ?it/s]"
      ]
     },
     "metadata": {},
     "output_type": "display_data"
    },
    {
     "data": {
      "application/vnd.jupyter.widget-view+json": {
       "model_id": "1f8065bc638549cdb6c4ef40d5b5f67b",
       "version_major": 2,
       "version_minor": 0
      },
      "text/plain": [
       "  0%|          | 0/3000 [00:00<?, ?it/s]"
      ]
     },
     "metadata": {},
     "output_type": "display_data"
    },
    {
     "data": {
      "application/vnd.jupyter.widget-view+json": {
       "model_id": "53177ae228714feb993a1fc72a5be2f4",
       "version_major": 2,
       "version_minor": 0
      },
      "text/plain": [
       "Epochs:   0%|          | 0/15 [00:00<?, ?it/s]"
      ]
     },
     "metadata": {},
     "output_type": "display_data"
    },
    {
     "data": {
      "application/vnd.jupyter.widget-view+json": {
       "model_id": "1f3de85132b84621adfd0ae2ad3180af",
       "version_major": 2,
       "version_minor": 0
      },
      "text/plain": [
       "  0%|          | 0/396 [00:00<?, ?it/s]"
      ]
     },
     "metadata": {},
     "output_type": "display_data"
    },
    {
     "data": {
      "application/vnd.jupyter.widget-view+json": {
       "model_id": "490e8f61d49a4a4ba7bcd23fb1beec5f",
       "version_major": 2,
       "version_minor": 0
      },
      "text/plain": [
       "  0%|          | 0/396 [00:00<?, ?it/s]"
      ]
     },
     "metadata": {},
     "output_type": "display_data"
    },
    {
     "data": {
      "application/vnd.jupyter.widget-view+json": {
       "model_id": "031214baf4344ddcb4c297192d505e84",
       "version_major": 2,
       "version_minor": 0
      },
      "text/plain": [
       "  0%|          | 0/396 [00:00<?, ?it/s]"
      ]
     },
     "metadata": {},
     "output_type": "display_data"
    },
    {
     "name": "stdout",
     "output_type": "stream",
     "text": [
      "{'Kupicks POF': 0.9839089602677263, 'Haas TBF': 0.30628224668370924, 'Acerbi Szekely 1': 3.213366985321045, 'Acerbi Szekely 2': 0.00032458253554068506} {'Kupicks POF': 0.9839089602677263, 'Haas TBF': 0.6645764225397761, 'Acerbi Szekely 1': 2.8453407287597656, 'Acerbi Szekely 2': 0.0002874081546906382} {'Kupicks POF': 1.0170486293810412e-06, 'Haas TBF': 4.094967765465478e-06, 'Acerbi Szekely 1': 1.7914091348648071, 'Acerbi Szekely 2': 0.000769039208535105}\n",
      "Portfolio = 0.1 * GE + 0.1 * ELV + 0.1 * DE + 0.1 * PG + 0.1 * BLK + 0.1 * CI + 0.1 * NVDA + 0.1 * MCD + 0.1 * NFLX + 0.1 * AAPL\n"
     ]
    },
    {
     "data": {
      "application/vnd.jupyter.widget-view+json": {
       "model_id": "8db29ea6f32f4188b3378e9a77f404bf",
       "version_major": 2,
       "version_minor": 0
      },
      "text/plain": [
       "  0%|          | 0/10 [00:00<?, ?it/s]"
      ]
     },
     "metadata": {},
     "output_type": "display_data"
    },
    {
     "data": {
      "application/vnd.jupyter.widget-view+json": {
       "model_id": "2ec3defe1b234ccab2a6c90227a645c2",
       "version_major": 2,
       "version_minor": 0
      },
      "text/plain": [
       "  0%|          | 0/3000 [00:00<?, ?it/s]"
      ]
     },
     "metadata": {},
     "output_type": "display_data"
    },
    {
     "data": {
      "application/vnd.jupyter.widget-view+json": {
       "model_id": "4ff691b8550240ba8301a8900e17f415",
       "version_major": 2,
       "version_minor": 0
      },
      "text/plain": [
       "Epochs:   0%|          | 0/15 [00:00<?, ?it/s]"
      ]
     },
     "metadata": {},
     "output_type": "display_data"
    },
    {
     "data": {
      "application/vnd.jupyter.widget-view+json": {
       "model_id": "b78f60c998a049c6b8db012e8ca8e54d",
       "version_major": 2,
       "version_minor": 0
      },
      "text/plain": [
       "  0%|          | 0/396 [00:00<?, ?it/s]"
      ]
     },
     "metadata": {},
     "output_type": "display_data"
    },
    {
     "data": {
      "application/vnd.jupyter.widget-view+json": {
       "model_id": "bfc00d83c31248fda9fb2f6aed678935",
       "version_major": 2,
       "version_minor": 0
      },
      "text/plain": [
       "  0%|          | 0/396 [00:00<?, ?it/s]"
      ]
     },
     "metadata": {},
     "output_type": "display_data"
    },
    {
     "data": {
      "application/vnd.jupyter.widget-view+json": {
       "model_id": "1699124c85da46dc995959d11bfbaf82",
       "version_major": 2,
       "version_minor": 0
      },
      "text/plain": [
       "  0%|          | 0/396 [00:00<?, ?it/s]"
      ]
     },
     "metadata": {},
     "output_type": "display_data"
    },
    {
     "name": "stdout",
     "output_type": "stream",
     "text": [
      "{'Kupicks POF': 0.9839089602677263, 'Haas TBF': 0.335129638526632, 'Acerbi Szekely 1': 3.211578369140625, 'Acerbi Szekely 2': 0.00032440185896120965} {'Kupicks POF': 0.0740988658366811, 'Haas TBF': nan, 'Acerbi Szekely 1': 3.1352040767669678, 'Acerbi Szekely 2': 7.917181210359558e-05} {'Kupicks POF': 2.0013209031303686e-05, 'Haas TBF': 0.0016641905134072883, 'Acerbi Szekely 1': 1.6814143657684326, 'Acerbi Szekely 2': 0.0006368993781507015}\n",
      "Portfolio = 0.1 * BA + 0.1 * KO + 0.1 * ACN + 0.1 * AMD + 0.1 * GE + 0.1 * COP + 0.1 * TMO + 0.1 * MO + 0.1 * NEE + 0.1 * CVX\n"
     ]
    },
    {
     "data": {
      "application/vnd.jupyter.widget-view+json": {
       "model_id": "4b4e47f3091b47e6ab3eb347dcc0f4bf",
       "version_major": 2,
       "version_minor": 0
      },
      "text/plain": [
       "  0%|          | 0/10 [00:00<?, ?it/s]"
      ]
     },
     "metadata": {},
     "output_type": "display_data"
    },
    {
     "data": {
      "application/vnd.jupyter.widget-view+json": {
       "model_id": "013c9d3ee73e47219142ce5f9dd1dd2d",
       "version_major": 2,
       "version_minor": 0
      },
      "text/plain": [
       "  0%|          | 0/3000 [00:00<?, ?it/s]"
      ]
     },
     "metadata": {},
     "output_type": "display_data"
    },
    {
     "data": {
      "application/vnd.jupyter.widget-view+json": {
       "model_id": "dd86c9e4cf9248c4995d914bdea4c76d",
       "version_major": 2,
       "version_minor": 0
      },
      "text/plain": [
       "Epochs:   0%|          | 0/15 [00:00<?, ?it/s]"
      ]
     },
     "metadata": {},
     "output_type": "display_data"
    },
    {
     "data": {
      "application/vnd.jupyter.widget-view+json": {
       "model_id": "040bfa007830460d9d2c18bbb8a2cc6d",
       "version_major": 2,
       "version_minor": 0
      },
      "text/plain": [
       "  0%|          | 0/396 [00:00<?, ?it/s]"
      ]
     },
     "metadata": {},
     "output_type": "display_data"
    },
    {
     "data": {
      "application/vnd.jupyter.widget-view+json": {
       "model_id": "3841f8fa69864bb4ae787c978a50194c",
       "version_major": 2,
       "version_minor": 0
      },
      "text/plain": [
       "  0%|          | 0/396 [00:00<?, ?it/s]"
      ]
     },
     "metadata": {},
     "output_type": "display_data"
    },
    {
     "data": {
      "application/vnd.jupyter.widget-view+json": {
       "model_id": "0f86e4f532ab4481ae00f481820b9489",
       "version_major": 2,
       "version_minor": 0
      },
      "text/plain": [
       "  0%|          | 0/396 [00:00<?, ?it/s]"
      ]
     },
     "metadata": {},
     "output_type": "display_data"
    },
    {
     "name": "stdout",
     "output_type": "stream",
     "text": [
      "{'Kupicks POF': 0.6124944699749673, 'Haas TBF': 0.630090793615534, 'Acerbi Szekely 1': 3.4687302112579346, 'Acerbi Szekely 2': 0.000262782588833943} {'Kupicks POF': 0.9839089602677263, 'Haas TBF': 0.7098705732649506, 'Acerbi Szekely 1': 2.6493921279907227, 'Acerbi Szekely 2': 0.000267615367192775} {'Kupicks POF': 4.111959361375068e-08, 'Haas TBF': 8.005523223073634e-05, 'Acerbi Szekely 1': 1.8036127090454102, 'Acerbi Szekely 2': 0.0008653697441332042}\n",
      "Portfolio = 0.1 * T + 0.1 * TJX + 0.1 * MS + 0.1 * EOG + 0.1 * BAC + 0.1 * BLK + 0.1 * GS + 0.1 * GOOGL + 0.1 * JNJ + 0.1 * HD\n"
     ]
    },
    {
     "data": {
      "application/vnd.jupyter.widget-view+json": {
       "model_id": "c31027e049014018a7426fa0d23cb538",
       "version_major": 2,
       "version_minor": 0
      },
      "text/plain": [
       "  0%|          | 0/10 [00:00<?, ?it/s]"
      ]
     },
     "metadata": {},
     "output_type": "display_data"
    },
    {
     "data": {
      "application/vnd.jupyter.widget-view+json": {
       "model_id": "4b70619647be4a17801975a25c937348",
       "version_major": 2,
       "version_minor": 0
      },
      "text/plain": [
       "  0%|          | 0/3000 [00:00<?, ?it/s]"
      ]
     },
     "metadata": {},
     "output_type": "display_data"
    },
    {
     "data": {
      "application/vnd.jupyter.widget-view+json": {
       "model_id": "15e1880ad78949c1b016c2b7482319d8",
       "version_major": 2,
       "version_minor": 0
      },
      "text/plain": [
       "Epochs:   0%|          | 0/15 [00:00<?, ?it/s]"
      ]
     },
     "metadata": {},
     "output_type": "display_data"
    },
    {
     "data": {
      "application/vnd.jupyter.widget-view+json": {
       "model_id": "c7c3d9768e8e4f9e81de558c8d98a1bb",
       "version_major": 2,
       "version_minor": 0
      },
      "text/plain": [
       "  0%|          | 0/396 [00:00<?, ?it/s]"
      ]
     },
     "metadata": {},
     "output_type": "display_data"
    },
    {
     "data": {
      "application/vnd.jupyter.widget-view+json": {
       "model_id": "29f8825ef440445a882c4965813fddf4",
       "version_major": 2,
       "version_minor": 0
      },
      "text/plain": [
       "  0%|          | 0/396 [00:00<?, ?it/s]"
      ]
     },
     "metadata": {},
     "output_type": "display_data"
    },
    {
     "data": {
      "application/vnd.jupyter.widget-view+json": {
       "model_id": "fb2ead93abaf4bfe835c7b4f7d5017af",
       "version_major": 2,
       "version_minor": 0
      },
      "text/plain": [
       "  0%|          | 0/396 [00:00<?, ?it/s]"
      ]
     },
     "metadata": {},
     "output_type": "display_data"
    },
    {
     "name": "stdout",
     "output_type": "stream",
     "text": [
      "{'Kupicks POF': 0.33831157927013206, 'Haas TBF': 0.08264072877584465, 'Acerbi Szekely 1': 3.5919129848480225, 'Acerbi Szekely 2': 0.0005442292313091457} {'Kupicks POF': 0.0730582553226457, 'Haas TBF': 0.10968966807767856, 'Acerbi Szekely 1': 2.9774134159088135, 'Acerbi Szekely 2': 0.0006014976534061134} {'Kupicks POF': 1.0170486293810412e-06, 'Haas TBF': 7.94384350519109e-06, 'Acerbi Szekely 1': 1.8436431884765625, 'Acerbi Szekely 2': 0.0007914629532024264}\n",
      "Portfolio = 0.1 * CB + 0.1 * RTX + 0.1 * MS + 0.1 * NFLX + 0.1 * PG + 0.1 * XOM + 0.1 * MSFT + 0.1 * MDT + 0.1 * C + 0.1 * VZ\n"
     ]
    },
    {
     "data": {
      "application/vnd.jupyter.widget-view+json": {
       "model_id": "767a154364c143bf81f43660369ac1b4",
       "version_major": 2,
       "version_minor": 0
      },
      "text/plain": [
       "  0%|          | 0/10 [00:00<?, ?it/s]"
      ]
     },
     "metadata": {},
     "output_type": "display_data"
    },
    {
     "data": {
      "application/vnd.jupyter.widget-view+json": {
       "model_id": "e27493c52f2d4d5b812a408c73883feb",
       "version_major": 2,
       "version_minor": 0
      },
      "text/plain": [
       "  0%|          | 0/3000 [00:00<?, ?it/s]"
      ]
     },
     "metadata": {},
     "output_type": "display_data"
    },
    {
     "data": {
      "application/vnd.jupyter.widget-view+json": {
       "model_id": "a9a223c8dd474a1a998198fc9fd54320",
       "version_major": 2,
       "version_minor": 0
      },
      "text/plain": [
       "Epochs:   0%|          | 0/15 [00:00<?, ?it/s]"
      ]
     },
     "metadata": {},
     "output_type": "display_data"
    },
    {
     "data": {
      "application/vnd.jupyter.widget-view+json": {
       "model_id": "891119aae1f14d4cb78ac7693dd128e4",
       "version_major": 2,
       "version_minor": 0
      },
      "text/plain": [
       "  0%|          | 0/396 [00:00<?, ?it/s]"
      ]
     },
     "metadata": {},
     "output_type": "display_data"
    },
    {
     "data": {
      "application/vnd.jupyter.widget-view+json": {
       "model_id": "f870315ba5584304adc65dc4c3c83792",
       "version_major": 2,
       "version_minor": 0
      },
      "text/plain": [
       "  0%|          | 0/396 [00:00<?, ?it/s]"
      ]
     },
     "metadata": {},
     "output_type": "display_data"
    },
    {
     "data": {
      "application/vnd.jupyter.widget-view+json": {
       "model_id": "b56eb3ff6ca046beba4457ef4c8df022",
       "version_major": 2,
       "version_minor": 0
      },
      "text/plain": [
       "  0%|          | 0/396 [00:00<?, ?it/s]"
      ]
     },
     "metadata": {},
     "output_type": "display_data"
    },
    {
     "name": "stdout",
     "output_type": "stream",
     "text": [
      "{'Kupicks POF': 0.9839089602677263, 'Haas TBF': 0.44792183679657593, 'Acerbi Szekely 1': 3.311065912246704, 'Acerbi Szekely 2': 0.0003344510914757848} {'Kupicks POF': 0.33831157927013206, 'Haas TBF': 0.5618091006890653, 'Acerbi Szekely 1': 2.862550735473633, 'Acerbi Szekely 2': 0.0004337197751738131} {'Kupicks POF': 4.111959361375068e-08, 'Haas TBF': 3.0204523379147893e-05, 'Acerbi Szekely 1': 1.8316164016723633, 'Acerbi Szekely 2': 0.0008788058767095208}\n"
     ]
    }
   ],
   "source": [
    "for i in range(5):\n",
    "    # one complete cycle\n",
    "    seed_everything(RANDOM_STATE + i)\n",
    "    n_stocks = 10\n",
    "    tickers = np.random.choice(df[\"Ticker\"].unique(), n_stocks, replace=False)\n",
    "    weights = 1/n_stocks\n",
    "    print(\"Portfolio = {0}\".format(\" + \".join([f\"{weights} * {i}\"for i in tickers])))\n",
    "    df_copy = df.loc[df[\"Ticker\"].isin(tickers)].copy(deep=True)\n",
    "\n",
    "    df_returns = compute_individual_returns(df_copy)\n",
    "    df_returns = compute_portfolio_returns(df_returns)\n",
    "\n",
    "    return_cols = [i for i in df_returns.columns if (i.startswith(\"Return_\") and i != \"Return_Target\")]\n",
    "    multivariate_returns = df_returns[return_cols]\n",
    "    multivariate_target = df_returns[\"Return_Target\"]\n",
    "\n",
    "    multivariate_target = multivariate_target.values[1:]\n",
    "    train_size = df_returns[df_returns.Date <= \"2022-06-01\"].index[-1] + 1\n",
    "    test_size = len(multivariate_target) - train_size\n",
    "    train = multivariate_returns.values[1:train_size]\n",
    "\n",
    "    ss = StandardScaler()\n",
    "    train_scaled = torch.tensor(ss.fit_transform(train), dtype=torch.float32)\n",
    "\n",
    "    seed_everything(RANDOM_STATE)\n",
    "    context_size = 90\n",
    "    num_train_samples = 3000\n",
    "    train_data = torch.zeros(num_train_samples, context_size, train_scaled.shape[1])\n",
    "    train_target = torch.zeros(num_train_samples, 1, train_scaled.shape[1])\n",
    "    train_idx = np.random.choice(np.arange(context_size, train_scaled.shape[0]), num_train_samples, replace=False)\n",
    "\n",
    "    for i in tqdm(range(num_train_samples)):\n",
    "        idx = train_idx[i]\n",
    "        train_context = train_scaled[idx-context_size:idx]\n",
    "        target_obs = train_scaled[idx]\n",
    "        train_data[i] = train_context\n",
    "        train_target[i] = target_obs\n",
    "    \n",
    "    # Create DataLoader for ease of torch training\n",
    "    train_loader = DataLoader(TensorDataset(train_data, train_target), batch_size=128, shuffle=False)\n",
    "\n",
    "\n",
    "    temp = torch.tensor(ss.transform(multivariate_returns.values[1:]))\n",
    "    test_data_context = torch.zeros(test_size, context_size, temp.shape[1])\n",
    "    test_data_real = torch.zeros(test_size, 1, 1)\n",
    "    for i in range(test_size):\n",
    "        idx = i + train_size\n",
    "        test_data_context[i] = temp[idx-context_size:idx]\n",
    "        test_data_real[i] = multivariate_target[idx]\n",
    "\n",
    "    seed_everything(RANDOM_STATE)\n",
    "    sheduler = DDPMScheduler(num_train_timesteps=47, beta_end=0.13159191527736805, clip_sample=False)\n",
    "    model = TimeGrad(train.shape[-1], train.shape[-1], hidden_size=50, num_layers=2, scheduler=sheduler, num_inference_steps=47)\n",
    "    \n",
    "    \n",
    "    optimizer = torch.optim.Adam(model.parameters(), lr=0.003457518172345782)\n",
    "    device = \"mps\"\n",
    "    n_epochs = 15\n",
    "    model.to(device);\n",
    "\n",
    "    model.fit(train_loader, optimizer, n_epochs, device)\n",
    "\n",
    "\n",
    "    seed_everything(RANDOM_STATE)\n",
    "    VaR_TimeGrad = torch.zeros(test_data_real.shape[0])\n",
    "    ES_TimeGrad = torch.zeros(test_data_real.shape[0])\n",
    "    \n",
    "    for i in tqdm(range(test_data_real.shape[0])):\n",
    "        test = test_data_context[[i]]\n",
    "        \n",
    "        # compute correlation matrix\n",
    "        pho = torch.corrcoef(torch.squeeze(test).T).to(torch.double)\n",
    "        \n",
    "        VaR_TimeGrad[i], ES_TimeGrad[i] = estimate_var_es_torch_multivariate(model, test, ss, pho, alpha=alpha, n_samples=500, device=\"mps\")\n",
    "\n",
    "    res_timeGrad.append(generate_report(test_data_real.flatten(), VaR_TimeGrad, ES_TimeGrad, alpha=alpha))\n",
    "\n",
    "    hist_sim = HistoricalSimulation(alpha=alpha)\n",
    "\n",
    "    VaR_histSim = torch.zeros(test_data_real.shape[0])\n",
    "    ES_histSim = torch.zeros(test_data_real.shape[0])\n",
    "    \n",
    "    for i in tqdm(range(test_data_real.shape[0])):\n",
    "        test = test_data_context[[i]]\n",
    "        VaR_histSim[i], ES_histSim[i] = hist_sim.predict(test_data_context[[i]], scaler=ss)\n",
    "    \n",
    "    res_hist.append(generate_report(test_data_real.flatten(), VaR_histSim, ES_histSim, alpha=alpha))\n",
    "    \n",
    "    var_cov = VarCov(alpha=alpha)\n",
    "    \n",
    "    VaR_varCov = torch.zeros(test_data_real.shape[0])\n",
    "    ES_varCov = torch.zeros(test_data_real.shape[0])\n",
    "    \n",
    "    for i in tqdm(range(test_data_real.shape[0])):\n",
    "        test = test_data_context[[i]]\n",
    "        VaR_varCov[i], ES_varCov[i] = var_cov.predict(test_data_context[[i]], scaler=ss)\n",
    "    \n",
    "    res_varcov.append(generate_report(test_data_real.flatten(), VaR_varCov, ES_varCov, alpha=alpha))\n",
    "\n",
    "    print(res_timeGrad[-1], res_hist[-1], res_varcov[-1])"
   ]
  },
  {
   "cell_type": "code",
   "execution_count": 9,
   "id": "8",
   "metadata": {},
   "outputs": [
    {
     "name": "stdout",
     "output_type": "stream",
     "text": [
      "[7.80506586e-01 3.60413049e-01 3.35933089e+00 3.58089461e-04]\n",
      "[4.90657324e-01            nan 2.89398022e+00 3.33882553e-04]\n",
      "[4.42590910e-06 3.57297816e-04 1.79033916e+00 7.88315432e-04]\n"
     ]
    }
   ],
   "source": [
    "print(np.array([list(i.values()) for i in res_timeGrad]).mean(axis=0))\n",
    "print(np.array([list(i.values()) for i in res_hist]).mean(axis=0))\n",
    "print(np.array([list(i.values()) for i in res_varcov]).mean(axis=0))"
   ]
  }
 ],
 "metadata": {
  "kernelspec": {
   "display_name": "Python 3 (ipykernel)",
   "language": "python",
   "name": "python3"
  },
  "language_info": {
   "codemirror_mode": {
    "name": "ipython",
    "version": 3
   },
   "file_extension": ".py",
   "mimetype": "text/x-python",
   "name": "python",
   "nbconvert_exporter": "python",
   "pygments_lexer": "ipython3",
   "version": "3.12.2"
  }
 },
 "nbformat": 4,
 "nbformat_minor": 5
}
