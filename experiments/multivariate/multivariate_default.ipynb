{
 "cells": [
  {
   "cell_type": "code",
   "execution_count": 1,
   "id": "0",
   "metadata": {},
   "outputs": [],
   "source": [
    "# for correct relative imports\n",
    "import sys; sys.path.append(\"../var_dgm\")"
   ]
  },
  {
   "cell_type": "code",
   "execution_count": 2,
   "id": "1",
   "metadata": {},
   "outputs": [],
   "source": [
    "import warnings\n",
    "warnings.filterwarnings(\"ignore\")\n",
    "\n",
    "import torch\n",
    "from torch.utils.data import DataLoader, TensorDataset\n",
    "\n",
    "from diffusers import DDPMScheduler\n",
    "import pandas as pd\n",
    "import numpy as np\n",
    "from tqdm.auto import tqdm\n",
    "import matplotlib.pyplot as plt\n",
    "import seaborn as sns\n",
    "import pprint\n",
    "\n",
    "from sklearn.preprocessing import StandardScaler\n",
    "\n",
    "from var_dgm import TimeGrad\n",
    "from var_dgm.basic_models import HistoricalSimulation, VarCov\n",
    "from var_dgm.stat_tests import generate_report\n",
    "from var_dgm.utils import seed_everything, compute_individual_returns, compute_portfolio_returns, estimate_var_es_torch_multivariate"
   ]
  },
  {
   "cell_type": "code",
   "execution_count": 3,
   "id": "2",
   "metadata": {},
   "outputs": [],
   "source": [
    "sns.set_style(\"darkgrid\", {\"axes.facecolor\": \".9\"})\n",
    "sns.set_context(\"paper\")"
   ]
  },
  {
   "cell_type": "code",
   "execution_count": 4,
   "id": "3",
   "metadata": {},
   "outputs": [],
   "source": [
    "DATA_FOLDER = \"../../data/\"\n",
    "df = pd.read_csv(DATA_FOLDER + \"complete_stocks.csv\")\n",
    "df[\"Date\"] = pd.to_datetime(df[\"Date\"])"
   ]
  },
  {
   "cell_type": "code",
   "execution_count": 5,
   "id": "4",
   "metadata": {},
   "outputs": [
    {
     "data": {
      "text/plain": [
       "89"
      ]
     },
     "execution_count": 5,
     "metadata": {},
     "output_type": "execute_result"
    }
   ],
   "source": [
    "len(df[\"Ticker\"].unique())"
   ]
  },
  {
   "cell_type": "markdown",
   "id": "a0766d02-7afe-4372-84a5-42168bca17bc",
   "metadata": {},
   "source": [
    "## 5%"
   ]
  },
  {
   "cell_type": "code",
   "execution_count": 6,
   "id": "5",
   "metadata": {},
   "outputs": [],
   "source": [
    "res_timeGrad = list()\n",
    "res_hist = list()\n",
    "res_varcov = list()\n",
    "alpha = 0.05"
   ]
  },
  {
   "cell_type": "code",
   "execution_count": 7,
   "id": "6",
   "metadata": {},
   "outputs": [],
   "source": [
    "RANDOM_STATE = 12"
   ]
  },
  {
   "cell_type": "code",
   "execution_count": 8,
   "id": "7",
   "metadata": {},
   "outputs": [
    {
     "name": "stdout",
     "output_type": "stream",
     "text": [
      "Portfolio = 0.1 * INTC + 0.1 * DHR + 0.1 * COP + 0.1 * MRK + 0.1 * HON + 0.1 * T + 0.1 * MSFT + 0.1 * AXP + 0.1 * PEP + 0.1 * SYK\n"
     ]
    },
    {
     "data": {
      "application/vnd.jupyter.widget-view+json": {
       "model_id": "814170737ad044ec97a0ee0de92176a6",
       "version_major": 2,
       "version_minor": 0
      },
      "text/plain": [
       "  0%|          | 0/10 [00:00<?, ?it/s]"
      ]
     },
     "metadata": {},
     "output_type": "display_data"
    },
    {
     "data": {
      "application/vnd.jupyter.widget-view+json": {
       "model_id": "05a8ade0441749cfb5d4ee2278e583d3",
       "version_major": 2,
       "version_minor": 0
      },
      "text/plain": [
       "  0%|          | 0/3000 [00:00<?, ?it/s]"
      ]
     },
     "metadata": {},
     "output_type": "display_data"
    },
    {
     "data": {
      "application/vnd.jupyter.widget-view+json": {
       "model_id": "dd8f9912e85d4c828eeed6621a15aac3",
       "version_major": 2,
       "version_minor": 0
      },
      "text/plain": [
       "Epochs:   0%|          | 0/50 [00:00<?, ?it/s]"
      ]
     },
     "metadata": {},
     "output_type": "display_data"
    },
    {
     "data": {
      "application/vnd.jupyter.widget-view+json": {
       "model_id": "c017587500b644a8b2e7b83ddc1bd958",
       "version_major": 2,
       "version_minor": 0
      },
      "text/plain": [
       "  0%|          | 0/396 [00:00<?, ?it/s]"
      ]
     },
     "metadata": {},
     "output_type": "display_data"
    },
    {
     "data": {
      "application/vnd.jupyter.widget-view+json": {
       "model_id": "9ff5879122c148948ad12c47e3bd01d7",
       "version_major": 2,
       "version_minor": 0
      },
      "text/plain": [
       "  0%|          | 0/396 [00:00<?, ?it/s]"
      ]
     },
     "metadata": {},
     "output_type": "display_data"
    },
    {
     "data": {
      "application/vnd.jupyter.widget-view+json": {
       "model_id": "ed70e3ea90f44ad6b7efbaba9ce77439",
       "version_major": 2,
       "version_minor": 0
      },
      "text/plain": [
       "  0%|          | 0/396 [00:00<?, ?it/s]"
      ]
     },
     "metadata": {},
     "output_type": "display_data"
    },
    {
     "name": "stdout",
     "output_type": "stream",
     "text": [
      "{'Kupicks POF': 0.07430282357066952, 'Haas TBF': 0.02682004160927741, 'Acerbi Szekely 1': 2.7530152797698975, 'Acerbi Szekely 2': 0.009732882492244244} {'Kupicks POF': 0.6179542611619433, 'Haas TBF': 0.04599640255700543, 'Acerbi Szekely 1': 2.40539813041687, 'Acerbi Szekely 2': 0.0066816615872085094} {'Kupicks POF': 0.5086437093214728, 'Haas TBF': 0.006220864350034933, 'Acerbi Szekely 1': 2.020491600036621, 'Acerbi Szekely 2': 0.004336914047598839}\n",
      "Portfolio = 0.1 * GE + 0.1 * ELV + 0.1 * DE + 0.1 * PG + 0.1 * BLK + 0.1 * CI + 0.1 * NVDA + 0.1 * MCD + 0.1 * NFLX + 0.1 * AAPL\n"
     ]
    },
    {
     "data": {
      "application/vnd.jupyter.widget-view+json": {
       "model_id": "a8ea4a5d9d754c78b58f551e012dbe86",
       "version_major": 2,
       "version_minor": 0
      },
      "text/plain": [
       "  0%|          | 0/10 [00:00<?, ?it/s]"
      ]
     },
     "metadata": {},
     "output_type": "display_data"
    },
    {
     "data": {
      "application/vnd.jupyter.widget-view+json": {
       "model_id": "3e51613798924580b95eedc027a1ebb2",
       "version_major": 2,
       "version_minor": 0
      },
      "text/plain": [
       "  0%|          | 0/3000 [00:00<?, ?it/s]"
      ]
     },
     "metadata": {},
     "output_type": "display_data"
    },
    {
     "data": {
      "application/vnd.jupyter.widget-view+json": {
       "model_id": "b8566f1775ed49d3a01dbbebb1202050",
       "version_major": 2,
       "version_minor": 0
      },
      "text/plain": [
       "Epochs:   0%|          | 0/50 [00:00<?, ?it/s]"
      ]
     },
     "metadata": {},
     "output_type": "display_data"
    },
    {
     "data": {
      "application/vnd.jupyter.widget-view+json": {
       "model_id": "2f6b8fbbf3c646349fbf6378ec589ef4",
       "version_major": 2,
       "version_minor": 0
      },
      "text/plain": [
       "  0%|          | 0/396 [00:00<?, ?it/s]"
      ]
     },
     "metadata": {},
     "output_type": "display_data"
    },
    {
     "data": {
      "application/vnd.jupyter.widget-view+json": {
       "model_id": "e34e26723bc94ff3a75827cbecc4d909",
       "version_major": 2,
       "version_minor": 0
      },
      "text/plain": [
       "  0%|          | 0/396 [00:00<?, ?it/s]"
      ]
     },
     "metadata": {},
     "output_type": "display_data"
    },
    {
     "data": {
      "application/vnd.jupyter.widget-view+json": {
       "model_id": "02b4e9bf8d2749fbb61ea76e019f1dc6",
       "version_major": 2,
       "version_minor": 0
      },
      "text/plain": [
       "  0%|          | 0/396 [00:00<?, ?it/s]"
      ]
     },
     "metadata": {},
     "output_type": "display_data"
    },
    {
     "name": "stdout",
     "output_type": "stream",
     "text": [
      "{'Kupicks POF': 0.8527157106323404, 'Haas TBF': 0.09292622133812406, 'Acerbi Szekely 1': 2.441955804824829, 'Acerbi Szekely 2': 0.005858227144926786} {'Kupicks POF': 0.9632775216835524, 'Haas TBF': 0.012338289514030838, 'Acerbi Szekely 1': 2.281898021697998, 'Acerbi Szekely 2': 0.005762368440628052} {'Kupicks POF': 0.2484438497515893, 'Haas TBF': 0.12731070081789275, 'Acerbi Szekely 1': 1.8768728971481323, 'Acerbi Szekely 2': 0.003554683644324541}\n",
      "Portfolio = 0.1 * BA + 0.1 * KO + 0.1 * ACN + 0.1 * AMD + 0.1 * GE + 0.1 * COP + 0.1 * TMO + 0.1 * MO + 0.1 * NEE + 0.1 * CVX\n"
     ]
    },
    {
     "data": {
      "application/vnd.jupyter.widget-view+json": {
       "model_id": "b25ff2b4a3a84eacb4d2aed4715125cd",
       "version_major": 2,
       "version_minor": 0
      },
      "text/plain": [
       "  0%|          | 0/10 [00:00<?, ?it/s]"
      ]
     },
     "metadata": {},
     "output_type": "display_data"
    },
    {
     "data": {
      "application/vnd.jupyter.widget-view+json": {
       "model_id": "220d135faa7848a59d95f023678369d5",
       "version_major": 2,
       "version_minor": 0
      },
      "text/plain": [
       "  0%|          | 0/3000 [00:00<?, ?it/s]"
      ]
     },
     "metadata": {},
     "output_type": "display_data"
    },
    {
     "data": {
      "application/vnd.jupyter.widget-view+json": {
       "model_id": "6d5d13d877c8476b9c20ae1373a5a96b",
       "version_major": 2,
       "version_minor": 0
      },
      "text/plain": [
       "Epochs:   0%|          | 0/50 [00:00<?, ?it/s]"
      ]
     },
     "metadata": {},
     "output_type": "display_data"
    },
    {
     "data": {
      "application/vnd.jupyter.widget-view+json": {
       "model_id": "41fc957c6c9044bd91ba34f10820c8f9",
       "version_major": 2,
       "version_minor": 0
      },
      "text/plain": [
       "  0%|          | 0/396 [00:00<?, ?it/s]"
      ]
     },
     "metadata": {},
     "output_type": "display_data"
    },
    {
     "data": {
      "application/vnd.jupyter.widget-view+json": {
       "model_id": "1a64a01df14649c2b5174950ea66fe0b",
       "version_major": 2,
       "version_minor": 0
      },
      "text/plain": [
       "  0%|          | 0/396 [00:00<?, ?it/s]"
      ]
     },
     "metadata": {},
     "output_type": "display_data"
    },
    {
     "data": {
      "application/vnd.jupyter.widget-view+json": {
       "model_id": "9fa619de9b5d4d508eead543df4ce539",
       "version_major": 2,
       "version_minor": 0
      },
      "text/plain": [
       "  0%|          | 0/396 [00:00<?, ?it/s]"
      ]
     },
     "metadata": {},
     "output_type": "display_data"
    },
    {
     "name": "stdout",
     "output_type": "stream",
     "text": [
      "{'Kupicks POF': 0.17166934687383595, 'Haas TBF': 0.5437042039505107, 'Acerbi Szekely 1': 2.553922414779663, 'Acerbi Szekely 2': 0.00838408898562193} {'Kupicks POF': 0.34795084125098275, 'Haas TBF': 0.050991297332903925, 'Acerbi Szekely 1': 2.3846428394317627, 'Acerbi Szekely 2': 0.007226190064102411} {'Kupicks POF': 0.8527157106323404, 'Haas TBF': 0.23204915767328352, 'Acerbi Szekely 1': 2.0397770404815674, 'Acerbi Szekely 2': 0.004893404897302389}\n",
      "Portfolio = 0.1 * T + 0.1 * TJX + 0.1 * MS + 0.1 * EOG + 0.1 * BAC + 0.1 * BLK + 0.1 * GS + 0.1 * GOOGL + 0.1 * JNJ + 0.1 * HD\n"
     ]
    },
    {
     "data": {
      "application/vnd.jupyter.widget-view+json": {
       "model_id": "ad375b449ae84cafaacd6c129272830c",
       "version_major": 2,
       "version_minor": 0
      },
      "text/plain": [
       "  0%|          | 0/10 [00:00<?, ?it/s]"
      ]
     },
     "metadata": {},
     "output_type": "display_data"
    },
    {
     "data": {
      "application/vnd.jupyter.widget-view+json": {
       "model_id": "0ed9f7ec665c4b4ab38b301695b2070e",
       "version_major": 2,
       "version_minor": 0
      },
      "text/plain": [
       "  0%|          | 0/3000 [00:00<?, ?it/s]"
      ]
     },
     "metadata": {},
     "output_type": "display_data"
    },
    {
     "data": {
      "application/vnd.jupyter.widget-view+json": {
       "model_id": "7d1145660d364db38374e54c743a9a7a",
       "version_major": 2,
       "version_minor": 0
      },
      "text/plain": [
       "Epochs:   0%|          | 0/50 [00:00<?, ?it/s]"
      ]
     },
     "metadata": {},
     "output_type": "display_data"
    },
    {
     "data": {
      "application/vnd.jupyter.widget-view+json": {
       "model_id": "772c7d2255a54c73ab73de3500b4dc9a",
       "version_major": 2,
       "version_minor": 0
      },
      "text/plain": [
       "  0%|          | 0/396 [00:00<?, ?it/s]"
      ]
     },
     "metadata": {},
     "output_type": "display_data"
    },
    {
     "data": {
      "application/vnd.jupyter.widget-view+json": {
       "model_id": "ec2d24f7b7714cc1b8836243a452332b",
       "version_major": 2,
       "version_minor": 0
      },
      "text/plain": [
       "  0%|          | 0/396 [00:00<?, ?it/s]"
      ]
     },
     "metadata": {},
     "output_type": "display_data"
    },
    {
     "data": {
      "application/vnd.jupyter.widget-view+json": {
       "model_id": "a0064d3dc44c4870bfd297ae967c0d3e",
       "version_major": 2,
       "version_minor": 0
      },
      "text/plain": [
       "  0%|          | 0/396 [00:00<?, ?it/s]"
      ]
     },
     "metadata": {},
     "output_type": "display_data"
    },
    {
     "name": "stdout",
     "output_type": "stream",
     "text": [
      "{'Kupicks POF': 0.3653929983513471, 'Haas TBF': 0.6381911973860748, 'Acerbi Szekely 1': 2.6204912662506104, 'Acerbi Szekely 2': 0.005293922033160925} {'Kupicks POF': 0.24846668808638034, 'Haas TBF': 0.027086673103953896, 'Acerbi Szekely 1': 2.5479319095611572, 'Acerbi Szekely 2': 0.008042714558541775} {'Kupicks POF': 0.5086437093214728, 'Haas TBF': 0.026309460753674133, 'Acerbi Szekely 1': 2.087740421295166, 'Acerbi Szekely 2': 0.004481261130422354}\n",
      "Portfolio = 0.1 * CB + 0.1 * RTX + 0.1 * MS + 0.1 * NFLX + 0.1 * PG + 0.1 * XOM + 0.1 * MSFT + 0.1 * MDT + 0.1 * C + 0.1 * VZ\n"
     ]
    },
    {
     "data": {
      "application/vnd.jupyter.widget-view+json": {
       "model_id": "fbd6ebfa11e4457daabc3568ab1018e3",
       "version_major": 2,
       "version_minor": 0
      },
      "text/plain": [
       "  0%|          | 0/10 [00:00<?, ?it/s]"
      ]
     },
     "metadata": {},
     "output_type": "display_data"
    },
    {
     "data": {
      "application/vnd.jupyter.widget-view+json": {
       "model_id": "cc8e65aeabdb4fc18414f28aa5dfb3e4",
       "version_major": 2,
       "version_minor": 0
      },
      "text/plain": [
       "  0%|          | 0/3000 [00:00<?, ?it/s]"
      ]
     },
     "metadata": {},
     "output_type": "display_data"
    },
    {
     "data": {
      "application/vnd.jupyter.widget-view+json": {
       "model_id": "eff94dca105643c58528517977a477ca",
       "version_major": 2,
       "version_minor": 0
      },
      "text/plain": [
       "Epochs:   0%|          | 0/50 [00:00<?, ?it/s]"
      ]
     },
     "metadata": {},
     "output_type": "display_data"
    },
    {
     "data": {
      "application/vnd.jupyter.widget-view+json": {
       "model_id": "2b4cb8ad0ad44edaa21ef0c53d0162eb",
       "version_major": 2,
       "version_minor": 0
      },
      "text/plain": [
       "  0%|          | 0/396 [00:00<?, ?it/s]"
      ]
     },
     "metadata": {},
     "output_type": "display_data"
    },
    {
     "data": {
      "application/vnd.jupyter.widget-view+json": {
       "model_id": "2e6b84143e1b461f896cd3b76e15574d",
       "version_major": 2,
       "version_minor": 0
      },
      "text/plain": [
       "  0%|          | 0/396 [00:00<?, ?it/s]"
      ]
     },
     "metadata": {},
     "output_type": "display_data"
    },
    {
     "data": {
      "application/vnd.jupyter.widget-view+json": {
       "model_id": "eacff952e378460687c3e22eb705f83f",
       "version_major": 2,
       "version_minor": 0
      },
      "text/plain": [
       "  0%|          | 0/396 [00:00<?, ?it/s]"
      ]
     },
     "metadata": {},
     "output_type": "display_data"
    },
    {
     "name": "stdout",
     "output_type": "stream",
     "text": [
      "{'Kupicks POF': 0.002837671450535894, 'Haas TBF': 0.012785717193415109, 'Acerbi Szekely 1': 2.525239944458008, 'Acerbi Szekely 2': 0.010840675793588161} {'Kupicks POF': 0.11478649504904463, 'Haas TBF': 0.038561088252113206, 'Acerbi Szekely 1': 2.3864657878875732, 'Acerbi Szekely 2': 0.008135679177939892} {'Kupicks POF': 0.8527157106323404, 'Haas TBF': 0.12667139932019633, 'Acerbi Szekely 1': 2.077404499053955, 'Acerbi Szekely 2': 0.00498367240652442}\n"
     ]
    }
   ],
   "source": [
    "for i in range(5):\n",
    "    # one complete cycle\n",
    "    seed_everything(RANDOM_STATE + i)\n",
    "    n_stocks = 10\n",
    "    tickers = np.random.choice(df[\"Ticker\"].unique(), n_stocks, replace=False)\n",
    "    weights = 1/n_stocks\n",
    "    print(\"Portfolio = {0}\".format(\" + \".join([f\"{weights} * {i}\"for i in tickers])))\n",
    "    df_copy = df.loc[df[\"Ticker\"].isin(tickers)].copy(deep=True)\n",
    "\n",
    "    df_returns = compute_individual_returns(df_copy)\n",
    "    df_returns = compute_portfolio_returns(df_returns)\n",
    "\n",
    "    return_cols = [i for i in df_returns.columns if (i.startswith(\"Return_\") and i != \"Return_Target\")]\n",
    "    multivariate_returns = df_returns[return_cols]\n",
    "    multivariate_target = df_returns[\"Return_Target\"]\n",
    "\n",
    "    multivariate_target = multivariate_target.values[1:]\n",
    "    train_size = df_returns[df_returns.Date <= \"2022-06-01\"].index[-1] + 1\n",
    "    test_size = len(multivariate_target) - train_size\n",
    "    train = multivariate_returns.values[1:train_size]\n",
    "\n",
    "    ss = StandardScaler()\n",
    "    train_scaled = torch.tensor(ss.fit_transform(train), dtype=torch.float32)\n",
    "\n",
    "    seed_everything(RANDOM_STATE)\n",
    "    context_size = 90\n",
    "    num_train_samples = 3000\n",
    "    train_data = torch.zeros(num_train_samples, context_size, train_scaled.shape[1])\n",
    "    train_target = torch.zeros(num_train_samples, 1, train_scaled.shape[1])\n",
    "    train_idx = np.random.choice(np.arange(context_size, train_scaled.shape[0]), num_train_samples, replace=False)\n",
    "\n",
    "    for i in tqdm(range(num_train_samples)):\n",
    "        idx = train_idx[i]\n",
    "        train_context = train_scaled[idx-context_size:idx]\n",
    "        target_obs = train_scaled[idx]\n",
    "        train_data[i] = train_context\n",
    "        train_target[i] = target_obs\n",
    "    \n",
    "    # Create DataLoader for ease of torch training\n",
    "    train_loader = DataLoader(TensorDataset(train_data, train_target), batch_size=128, shuffle=False)\n",
    "\n",
    "\n",
    "    temp = torch.tensor(ss.transform(multivariate_returns.values[1:]))\n",
    "    test_data_context = torch.zeros(test_size, context_size, temp.shape[1])\n",
    "    test_data_real = torch.zeros(test_size, 1, 1)\n",
    "    for i in range(test_size):\n",
    "        idx = i + train_size\n",
    "        test_data_context[i] = temp[idx-context_size:idx]\n",
    "        test_data_real[i] = multivariate_target[idx]\n",
    "\n",
    "    seed_everything(RANDOM_STATE)\n",
    "    sheduler = DDPMScheduler(num_train_timesteps=30, beta_end=0.05, clip_sample=False)\n",
    "    model = TimeGrad(train.shape[-1], train.shape[-1], hidden_size=50, num_layers=2, scheduler=sheduler, num_inference_steps=30)\n",
    "    \n",
    "    \n",
    "    optimizer = torch.optim.Adam(model.parameters(), lr=1e-3)\n",
    "    device = \"mps\"\n",
    "    n_epochs = 50\n",
    "    model.to(device);\n",
    "\n",
    "    model.fit(train_loader, optimizer, n_epochs, device)\n",
    "\n",
    "\n",
    "    seed_everything(RANDOM_STATE)\n",
    "    VaR_TimeGrad = torch.zeros(test_data_real.shape[0])\n",
    "    ES_TimeGrad = torch.zeros(test_data_real.shape[0])\n",
    "    \n",
    "    for i in tqdm(range(test_data_real.shape[0])):\n",
    "        test = test_data_context[[i]]\n",
    "        \n",
    "        # compute correlation matrix\n",
    "        pho = torch.corrcoef(torch.squeeze(test).T).to(torch.double)\n",
    "        \n",
    "        VaR_TimeGrad[i], ES_TimeGrad[i] = estimate_var_es_torch_multivariate(model, test, ss, pho, alpha=alpha, n_samples=500, device=\"mps\")\n",
    "\n",
    "    res_timeGrad.append(generate_report(test_data_real.flatten(), VaR_TimeGrad, ES_TimeGrad, alpha=alpha))\n",
    "\n",
    "    hist_sim = HistoricalSimulation(alpha=alpha)\n",
    "\n",
    "    VaR_histSim = torch.zeros(test_data_real.shape[0])\n",
    "    ES_histSim = torch.zeros(test_data_real.shape[0])\n",
    "    \n",
    "    for i in tqdm(range(test_data_real.shape[0])):\n",
    "        test = test_data_context[[i]]\n",
    "        VaR_histSim[i], ES_histSim[i] = hist_sim.predict(test_data_context[[i]], scaler=ss)\n",
    "    \n",
    "    res_hist.append(generate_report(test_data_real.flatten(), VaR_histSim, ES_histSim, alpha=alpha))\n",
    "    \n",
    "    var_cov = VarCov(alpha=alpha)\n",
    "    \n",
    "    VaR_varCov = torch.zeros(test_data_real.shape[0])\n",
    "    ES_varCov = torch.zeros(test_data_real.shape[0])\n",
    "    \n",
    "    for i in tqdm(range(test_data_real.shape[0])):\n",
    "        test = test_data_context[[i]]\n",
    "        VaR_varCov[i], ES_varCov[i] = var_cov.predict(test_data_context[[i]], scaler=ss)\n",
    "    \n",
    "    res_varcov.append(generate_report(test_data_real.flatten(), VaR_varCov, ES_varCov, alpha=alpha))\n",
    "\n",
    "    print(res_timeGrad[-1], res_hist[-1], res_varcov[-1])"
   ]
  },
  {
   "cell_type": "code",
   "execution_count": 9,
   "id": "8",
   "metadata": {},
   "outputs": [
    {
     "name": "stdout",
     "output_type": "stream",
     "text": [
      "[0.29338371 0.26288548 2.57892494 0.00802196]\n",
      "[0.45848716 0.03499475 2.40126734 0.00716972]\n",
      "[0.59423254 0.10371232 2.02045729 0.00444999]\n"
     ]
    }
   ],
   "source": [
    "print(np.array([list(i.values()) for i in res_timeGrad]).mean(axis=0))\n",
    "print(np.array([list(i.values()) for i in res_hist]).mean(axis=0))\n",
    "print(np.array([list(i.values()) for i in res_varcov]).mean(axis=0))"
   ]
  },
  {
   "cell_type": "markdown",
   "id": "a8ac9d66-8d92-4fab-8e3c-768932e523fc",
   "metadata": {},
   "source": [
    "## \n",
    "## 1%"
   ]
  },
  {
   "cell_type": "code",
   "execution_count": 10,
   "id": "d8080e38-2553-4dfe-a234-68ea42290b51",
   "metadata": {},
   "outputs": [
    {
     "name": "stdout",
     "output_type": "stream",
     "text": [
      "Portfolio = 0.1 * INTC + 0.1 * DHR + 0.1 * COP + 0.1 * MRK + 0.1 * HON + 0.1 * T + 0.1 * MSFT + 0.1 * AXP + 0.1 * PEP + 0.1 * SYK\n"
     ]
    },
    {
     "data": {
      "application/vnd.jupyter.widget-view+json": {
       "model_id": "e970e1e2bc57442db222398d4fefde8d",
       "version_major": 2,
       "version_minor": 0
      },
      "text/plain": [
       "  0%|          | 0/10 [00:00<?, ?it/s]"
      ]
     },
     "metadata": {},
     "output_type": "display_data"
    },
    {
     "data": {
      "application/vnd.jupyter.widget-view+json": {
       "model_id": "eaa4128609b945a5885f32225e6dd515",
       "version_major": 2,
       "version_minor": 0
      },
      "text/plain": [
       "  0%|          | 0/3000 [00:00<?, ?it/s]"
      ]
     },
     "metadata": {},
     "output_type": "display_data"
    },
    {
     "data": {
      "application/vnd.jupyter.widget-view+json": {
       "model_id": "55bdecf61dd34cbaa6826fe51f6ba6bd",
       "version_major": 2,
       "version_minor": 0
      },
      "text/plain": [
       "Epochs:   0%|          | 0/50 [00:00<?, ?it/s]"
      ]
     },
     "metadata": {},
     "output_type": "display_data"
    },
    {
     "data": {
      "application/vnd.jupyter.widget-view+json": {
       "model_id": "99166e76673b4f4ea3f8c3b3a95f0f85",
       "version_major": 2,
       "version_minor": 0
      },
      "text/plain": [
       "  0%|          | 0/396 [00:00<?, ?it/s]"
      ]
     },
     "metadata": {},
     "output_type": "display_data"
    },
    {
     "data": {
      "application/vnd.jupyter.widget-view+json": {
       "model_id": "321182da20d3432aa695d4b5ae913f2a",
       "version_major": 2,
       "version_minor": 0
      },
      "text/plain": [
       "  0%|          | 0/396 [00:00<?, ?it/s]"
      ]
     },
     "metadata": {},
     "output_type": "display_data"
    },
    {
     "data": {
      "application/vnd.jupyter.widget-view+json": {
       "model_id": "d2e3039245204af89287cf5dbcc94542",
       "version_major": 2,
       "version_minor": 0
      },
      "text/plain": [
       "  0%|          | 0/396 [00:00<?, ?it/s]"
      ]
     },
     "metadata": {},
     "output_type": "display_data"
    },
    {
     "name": "stdout",
     "output_type": "stream",
     "text": [
      "{'Kupicks POF': 0.029082507486846137, 'Haas TBF': 0.04339591173988374, 'Acerbi Szekely 1': 3.1596128940582275, 'Acerbi Szekely 2': 0.0007180937682278454} {'Kupicks POF': 0.9839089602677263, 'Haas TBF': 0.6645764225397761, 'Acerbi Szekely 1': 2.8453407287597656, 'Acerbi Szekely 2': 0.0002874081546906382} {'Kupicks POF': 1.0170486293810412e-06, 'Haas TBF': 4.094967765465478e-06, 'Acerbi Szekely 1': 1.7914091348648071, 'Acerbi Szekely 2': 0.000769039208535105}\n",
      "Portfolio = 0.1 * GE + 0.1 * ELV + 0.1 * DE + 0.1 * PG + 0.1 * BLK + 0.1 * CI + 0.1 * NVDA + 0.1 * MCD + 0.1 * NFLX + 0.1 * AAPL\n"
     ]
    },
    {
     "data": {
      "application/vnd.jupyter.widget-view+json": {
       "model_id": "ac834cd3a15741cfa5df918347d8687c",
       "version_major": 2,
       "version_minor": 0
      },
      "text/plain": [
       "  0%|          | 0/10 [00:00<?, ?it/s]"
      ]
     },
     "metadata": {},
     "output_type": "display_data"
    },
    {
     "data": {
      "application/vnd.jupyter.widget-view+json": {
       "model_id": "fb56e70815514d46ad16aea725ee00c1",
       "version_major": 2,
       "version_minor": 0
      },
      "text/plain": [
       "  0%|          | 0/3000 [00:00<?, ?it/s]"
      ]
     },
     "metadata": {},
     "output_type": "display_data"
    },
    {
     "data": {
      "application/vnd.jupyter.widget-view+json": {
       "model_id": "9cc49981dd0b43ee945d14551877cb63",
       "version_major": 2,
       "version_minor": 0
      },
      "text/plain": [
       "Epochs:   0%|          | 0/50 [00:00<?, ?it/s]"
      ]
     },
     "metadata": {},
     "output_type": "display_data"
    },
    {
     "data": {
      "application/vnd.jupyter.widget-view+json": {
       "model_id": "b4f401510d434f3f9d01e9e97d7e8182",
       "version_major": 2,
       "version_minor": 0
      },
      "text/plain": [
       "  0%|          | 0/396 [00:00<?, ?it/s]"
      ]
     },
     "metadata": {},
     "output_type": "display_data"
    },
    {
     "data": {
      "application/vnd.jupyter.widget-view+json": {
       "model_id": "5e6836b933cb426fa5b83aaa986b41c6",
       "version_major": 2,
       "version_minor": 0
      },
      "text/plain": [
       "  0%|          | 0/396 [00:00<?, ?it/s]"
      ]
     },
     "metadata": {},
     "output_type": "display_data"
    },
    {
     "data": {
      "application/vnd.jupyter.widget-view+json": {
       "model_id": "b41e415f07f54fe09b50fdef6ec6751e",
       "version_major": 2,
       "version_minor": 0
      },
      "text/plain": [
       "  0%|          | 0/396 [00:00<?, ?it/s]"
      ]
     },
     "metadata": {},
     "output_type": "display_data"
    },
    {
     "name": "stdout",
     "output_type": "stream",
     "text": [
      "{'Kupicks POF': 0.27384288964871895, 'Haas TBF': 0.6958701394864132, 'Acerbi Szekely 1': 3.4656805992126465, 'Acerbi Szekely 2': 0.00017503436538390815} {'Kupicks POF': 0.0740988658366811, 'Haas TBF': nan, 'Acerbi Szekely 1': 3.1352040767669678, 'Acerbi Szekely 2': 7.917181210359558e-05} {'Kupicks POF': 2.0013209031303686e-05, 'Haas TBF': 0.0016641905134072883, 'Acerbi Szekely 1': 1.6814143657684326, 'Acerbi Szekely 2': 0.0006368993781507015}\n",
      "Portfolio = 0.1 * BA + 0.1 * KO + 0.1 * ACN + 0.1 * AMD + 0.1 * GE + 0.1 * COP + 0.1 * TMO + 0.1 * MO + 0.1 * NEE + 0.1 * CVX\n"
     ]
    },
    {
     "data": {
      "application/vnd.jupyter.widget-view+json": {
       "model_id": "c15290a8e15c4bdfbdc45918373909b8",
       "version_major": 2,
       "version_minor": 0
      },
      "text/plain": [
       "  0%|          | 0/10 [00:00<?, ?it/s]"
      ]
     },
     "metadata": {},
     "output_type": "display_data"
    },
    {
     "data": {
      "application/vnd.jupyter.widget-view+json": {
       "model_id": "34c61bb63c0547e890ae552799b8e42d",
       "version_major": 2,
       "version_minor": 0
      },
      "text/plain": [
       "  0%|          | 0/3000 [00:00<?, ?it/s]"
      ]
     },
     "metadata": {},
     "output_type": "display_data"
    },
    {
     "data": {
      "application/vnd.jupyter.widget-view+json": {
       "model_id": "2f88ed0579584ab595c42aa23d477c4e",
       "version_major": 2,
       "version_minor": 0
      },
      "text/plain": [
       "Epochs:   0%|          | 0/50 [00:00<?, ?it/s]"
      ]
     },
     "metadata": {},
     "output_type": "display_data"
    },
    {
     "data": {
      "application/vnd.jupyter.widget-view+json": {
       "model_id": "333453ba55aa4d4e83369a9e067e228d",
       "version_major": 2,
       "version_minor": 0
      },
      "text/plain": [
       "  0%|          | 0/396 [00:00<?, ?it/s]"
      ]
     },
     "metadata": {},
     "output_type": "display_data"
    },
    {
     "data": {
      "application/vnd.jupyter.widget-view+json": {
       "model_id": "3d5e02df8b564ab48b602cc9665ef922",
       "version_major": 2,
       "version_minor": 0
      },
      "text/plain": [
       "  0%|          | 0/396 [00:00<?, ?it/s]"
      ]
     },
     "metadata": {},
     "output_type": "display_data"
    },
    {
     "data": {
      "application/vnd.jupyter.widget-view+json": {
       "model_id": "fe2f49725c3144029b416bbcab33ea39",
       "version_major": 2,
       "version_minor": 0
      },
      "text/plain": [
       "  0%|          | 0/396 [00:00<?, ?it/s]"
      ]
     },
     "metadata": {},
     "output_type": "display_data"
    },
    {
     "name": "stdout",
     "output_type": "stream",
     "text": [
      "{'Kupicks POF': 0.33831157927013206, 'Haas TBF': 0.5690630217736657, 'Acerbi Szekely 1': 3.0029661655426025, 'Acerbi Szekely 2': 0.00045499487896449864} {'Kupicks POF': 0.9839089602677263, 'Haas TBF': 0.7098705732649506, 'Acerbi Szekely 1': 2.6493921279907227, 'Acerbi Szekely 2': 0.000267615367192775} {'Kupicks POF': 4.111959361375068e-08, 'Haas TBF': 8.005523223073634e-05, 'Acerbi Szekely 1': 1.8036127090454102, 'Acerbi Szekely 2': 0.0008653697441332042}\n",
      "Portfolio = 0.1 * T + 0.1 * TJX + 0.1 * MS + 0.1 * EOG + 0.1 * BAC + 0.1 * BLK + 0.1 * GS + 0.1 * GOOGL + 0.1 * JNJ + 0.1 * HD\n"
     ]
    },
    {
     "data": {
      "application/vnd.jupyter.widget-view+json": {
       "model_id": "70efaa621323412f83365fb20a8b23b8",
       "version_major": 2,
       "version_minor": 0
      },
      "text/plain": [
       "  0%|          | 0/10 [00:00<?, ?it/s]"
      ]
     },
     "metadata": {},
     "output_type": "display_data"
    },
    {
     "data": {
      "application/vnd.jupyter.widget-view+json": {
       "model_id": "b459d96d6c4b4148b9dcb383cbb788c5",
       "version_major": 2,
       "version_minor": 0
      },
      "text/plain": [
       "  0%|          | 0/3000 [00:00<?, ?it/s]"
      ]
     },
     "metadata": {},
     "output_type": "display_data"
    },
    {
     "data": {
      "application/vnd.jupyter.widget-view+json": {
       "model_id": "dfb818aedf0942d78eae2ba50f7da764",
       "version_major": 2,
       "version_minor": 0
      },
      "text/plain": [
       "Epochs:   0%|          | 0/50 [00:00<?, ?it/s]"
      ]
     },
     "metadata": {},
     "output_type": "display_data"
    },
    {
     "data": {
      "application/vnd.jupyter.widget-view+json": {
       "model_id": "1814ae12f2be47f3870eb4ede55fa667",
       "version_major": 2,
       "version_minor": 0
      },
      "text/plain": [
       "  0%|          | 0/396 [00:00<?, ?it/s]"
      ]
     },
     "metadata": {},
     "output_type": "display_data"
    },
    {
     "data": {
      "application/vnd.jupyter.widget-view+json": {
       "model_id": "bbda65a898d54bac8d762a109f171f33",
       "version_major": 2,
       "version_minor": 0
      },
      "text/plain": [
       "  0%|          | 0/396 [00:00<?, ?it/s]"
      ]
     },
     "metadata": {},
     "output_type": "display_data"
    },
    {
     "data": {
      "application/vnd.jupyter.widget-view+json": {
       "model_id": "d1e9210cc29c45d6b22050bf3b389d1e",
       "version_major": 2,
       "version_minor": 0
      },
      "text/plain": [
       "  0%|          | 0/396 [00:00<?, ?it/s]"
      ]
     },
     "metadata": {},
     "output_type": "display_data"
    },
    {
     "name": "stdout",
     "output_type": "stream",
     "text": [
      "{'Kupicks POF': 0.27384288964871895, 'Haas TBF': 0.6760359478780523, 'Acerbi Szekely 1': 3.172502279281616, 'Acerbi Szekely 2': 0.0001602273841854185} {'Kupicks POF': 0.0730582553226457, 'Haas TBF': 0.10968966807767856, 'Acerbi Szekely 1': 2.9774134159088135, 'Acerbi Szekely 2': 0.0006014976534061134} {'Kupicks POF': 1.0170486293810412e-06, 'Haas TBF': 7.94384350519109e-06, 'Acerbi Szekely 1': 1.8436431884765625, 'Acerbi Szekely 2': 0.0007914629532024264}\n",
      "Portfolio = 0.1 * CB + 0.1 * RTX + 0.1 * MS + 0.1 * NFLX + 0.1 * PG + 0.1 * XOM + 0.1 * MSFT + 0.1 * MDT + 0.1 * C + 0.1 * VZ\n"
     ]
    },
    {
     "data": {
      "application/vnd.jupyter.widget-view+json": {
       "model_id": "199692ed46ab43bd8b3732893383786a",
       "version_major": 2,
       "version_minor": 0
      },
      "text/plain": [
       "  0%|          | 0/10 [00:00<?, ?it/s]"
      ]
     },
     "metadata": {},
     "output_type": "display_data"
    },
    {
     "data": {
      "application/vnd.jupyter.widget-view+json": {
       "model_id": "71838898ee38476fbef109874c95541b",
       "version_major": 2,
       "version_minor": 0
      },
      "text/plain": [
       "  0%|          | 0/3000 [00:00<?, ?it/s]"
      ]
     },
     "metadata": {},
     "output_type": "display_data"
    },
    {
     "data": {
      "application/vnd.jupyter.widget-view+json": {
       "model_id": "44144435e3864f0d9eb8d3a66afb42a7",
       "version_major": 2,
       "version_minor": 0
      },
      "text/plain": [
       "Epochs:   0%|          | 0/50 [00:00<?, ?it/s]"
      ]
     },
     "metadata": {},
     "output_type": "display_data"
    },
    {
     "data": {
      "application/vnd.jupyter.widget-view+json": {
       "model_id": "2fb387a3706a4bc98c797465f94a587b",
       "version_major": 2,
       "version_minor": 0
      },
      "text/plain": [
       "  0%|          | 0/396 [00:00<?, ?it/s]"
      ]
     },
     "metadata": {},
     "output_type": "display_data"
    },
    {
     "data": {
      "application/vnd.jupyter.widget-view+json": {
       "model_id": "ad92a519d8bd4f58a6bec6f11fde815d",
       "version_major": 2,
       "version_minor": 0
      },
      "text/plain": [
       "  0%|          | 0/396 [00:00<?, ?it/s]"
      ]
     },
     "metadata": {},
     "output_type": "display_data"
    },
    {
     "data": {
      "application/vnd.jupyter.widget-view+json": {
       "model_id": "566d0cab5f4b4aaaa160c97a2229b1c5",
       "version_major": 2,
       "version_minor": 0
      },
      "text/plain": [
       "  0%|          | 0/396 [00:00<?, ?it/s]"
      ]
     },
     "metadata": {},
     "output_type": "display_data"
    },
    {
     "name": "stdout",
     "output_type": "stream",
     "text": [
      "{'Kupicks POF': 0.165971353955659, 'Haas TBF': 0.21929875398435167, 'Acerbi Szekely 1': 3.1307709217071533, 'Acerbi Szekely 2': 0.0005534190568141639} {'Kupicks POF': 0.33831157927013206, 'Haas TBF': 0.5618091006890653, 'Acerbi Szekely 1': 2.862550735473633, 'Acerbi Szekely 2': 0.0004337197751738131} {'Kupicks POF': 4.111959361375068e-08, 'Haas TBF': 3.0204523379147893e-05, 'Acerbi Szekely 1': 1.8316164016723633, 'Acerbi Szekely 2': 0.0008788058767095208}\n"
     ]
    }
   ],
   "source": [
    "res_timeGrad = list()\n",
    "res_hist = list()\n",
    "res_varcov = list()\n",
    "alpha = 0.01\n",
    "RANDOM_STATE = 12\n",
    "\n",
    "for i in range(5):\n",
    "    # one complete cycle\n",
    "    seed_everything(RANDOM_STATE + i)\n",
    "    n_stocks = 10\n",
    "    tickers = np.random.choice(df[\"Ticker\"].unique(), n_stocks, replace=False)\n",
    "    weights = 1/n_stocks\n",
    "    print(\"Portfolio = {0}\".format(\" + \".join([f\"{weights} * {i}\"for i in tickers])))\n",
    "    df_copy = df.loc[df[\"Ticker\"].isin(tickers)].copy(deep=True)\n",
    "\n",
    "    df_returns = compute_individual_returns(df_copy)\n",
    "    df_returns = compute_portfolio_returns(df_returns)\n",
    "\n",
    "    return_cols = [i for i in df_returns.columns if (i.startswith(\"Return_\") and i != \"Return_Target\")]\n",
    "    multivariate_returns = df_returns[return_cols]\n",
    "    multivariate_target = df_returns[\"Return_Target\"]\n",
    "\n",
    "    multivariate_target = multivariate_target.values[1:]\n",
    "    train_size = df_returns[df_returns.Date <= \"2022-06-01\"].index[-1] + 1\n",
    "    test_size = len(multivariate_target) - train_size\n",
    "    train = multivariate_returns.values[1:train_size]\n",
    "\n",
    "    ss = StandardScaler()\n",
    "    train_scaled = torch.tensor(ss.fit_transform(train), dtype=torch.float32)\n",
    "\n",
    "    seed_everything(RANDOM_STATE)\n",
    "    context_size = 90\n",
    "    num_train_samples = 3000\n",
    "    train_data = torch.zeros(num_train_samples, context_size, train_scaled.shape[1])\n",
    "    train_target = torch.zeros(num_train_samples, 1, train_scaled.shape[1])\n",
    "    train_idx = np.random.choice(np.arange(context_size, train_scaled.shape[0]), num_train_samples, replace=False)\n",
    "\n",
    "    for i in tqdm(range(num_train_samples)):\n",
    "        idx = train_idx[i]\n",
    "        train_context = train_scaled[idx-context_size:idx]\n",
    "        target_obs = train_scaled[idx]\n",
    "        train_data[i] = train_context\n",
    "        train_target[i] = target_obs\n",
    "    \n",
    "    # Create DataLoader for ease of torch training\n",
    "    train_loader = DataLoader(TensorDataset(train_data, train_target), batch_size=128, shuffle=False)\n",
    "\n",
    "\n",
    "    temp = torch.tensor(ss.transform(multivariate_returns.values[1:]))\n",
    "    test_data_context = torch.zeros(test_size, context_size, temp.shape[1])\n",
    "    test_data_real = torch.zeros(test_size, 1, 1)\n",
    "    for i in range(test_size):\n",
    "        idx = i + train_size\n",
    "        test_data_context[i] = temp[idx-context_size:idx]\n",
    "        test_data_real[i] = multivariate_target[idx]\n",
    "\n",
    "    seed_everything(RANDOM_STATE)\n",
    "    sheduler = DDPMScheduler(num_train_timesteps=30, beta_end=0.05, clip_sample=False)\n",
    "    model = TimeGrad(train.shape[-1], train.shape[-1], hidden_size=50, num_layers=2, scheduler=sheduler, num_inference_steps=30)\n",
    "    \n",
    "    \n",
    "    optimizer = torch.optim.Adam(model.parameters(), lr=1e-3)\n",
    "    device = \"mps\"\n",
    "    n_epochs = 50\n",
    "    model.to(device);\n",
    "\n",
    "    model.fit(train_loader, optimizer, n_epochs, device)\n",
    "\n",
    "\n",
    "    seed_everything(RANDOM_STATE)\n",
    "    VaR_TimeGrad = torch.zeros(test_data_real.shape[0])\n",
    "    ES_TimeGrad = torch.zeros(test_data_real.shape[0])\n",
    "    \n",
    "    for i in tqdm(range(test_data_real.shape[0])):\n",
    "        test = test_data_context[[i]]\n",
    "        \n",
    "        # compute correlation matrix\n",
    "        pho = torch.corrcoef(torch.squeeze(test).T).to(torch.double)\n",
    "        \n",
    "        VaR_TimeGrad[i], ES_TimeGrad[i] = estimate_var_es_torch_multivariate(model, test, ss, pho, alpha=alpha, n_samples=500, device=\"mps\")\n",
    "\n",
    "    res_timeGrad.append(generate_report(test_data_real.flatten(), VaR_TimeGrad, ES_TimeGrad, alpha=alpha))\n",
    "\n",
    "    hist_sim = HistoricalSimulation(alpha=alpha)\n",
    "\n",
    "    VaR_histSim = torch.zeros(test_data_real.shape[0])\n",
    "    ES_histSim = torch.zeros(test_data_real.shape[0])\n",
    "    \n",
    "    for i in tqdm(range(test_data_real.shape[0])):\n",
    "        test = test_data_context[[i]]\n",
    "        VaR_histSim[i], ES_histSim[i] = hist_sim.predict(test_data_context[[i]], scaler=ss)\n",
    "    \n",
    "    res_hist.append(generate_report(test_data_real.flatten(), VaR_histSim, ES_histSim, alpha=alpha))\n",
    "    \n",
    "    var_cov = VarCov(alpha=alpha)\n",
    "    \n",
    "    VaR_varCov = torch.zeros(test_data_real.shape[0])\n",
    "    ES_varCov = torch.zeros(test_data_real.shape[0])\n",
    "    \n",
    "    for i in tqdm(range(test_data_real.shape[0])):\n",
    "        test = test_data_context[[i]]\n",
    "        VaR_varCov[i], ES_varCov[i] = var_cov.predict(test_data_context[[i]], scaler=ss)\n",
    "    \n",
    "    res_varcov.append(generate_report(test_data_real.flatten(), VaR_varCov, ES_varCov, alpha=alpha))\n",
    "\n",
    "    print(res_timeGrad[-1], res_hist[-1], res_varcov[-1])"
   ]
  },
  {
   "cell_type": "code",
   "execution_count": 12,
   "id": "2f22f78b-a559-4e30-b50e-a4d62b279ae2",
   "metadata": {},
   "outputs": [
    {
     "name": "stdout",
     "output_type": "stream",
     "text": [
      "[2.16210244e-01 4.40732755e-01 3.18630657e+00 4.12353891e-04]\n",
      "[4.90657324e-01 4.09189153e-01 2.89398022e+00 3.33882553e-04]\n",
      "[4.42590910e-06 3.57297816e-04 1.79033916e+00 7.88315432e-04]\n"
     ]
    }
   ],
   "source": [
    "print(np.array([list(i.values()) for i in res_timeGrad]).mean(axis=0))\n",
    "print(np.hstack((np.nan_to_num(np.array([list(i.values()) for i in res_hist])[:, :2], nan=0),\n",
    "          np.nan_to_num(np.array([list(i.values()) for i in res_hist])[:, 2:], nan=2))).mean(axis=0))\n",
    "print(np.array([list(i.values()) for i in res_varcov]).mean(axis=0))"
   ]
  },
  {
   "cell_type": "code",
   "execution_count": null,
   "id": "3444392e-6fbc-4541-8381-4e92052fb3ee",
   "metadata": {},
   "outputs": [],
   "source": []
  }
 ],
 "metadata": {
  "kernelspec": {
   "display_name": "Python 3 (ipykernel)",
   "language": "python",
   "name": "python3"
  },
  "language_info": {
   "codemirror_mode": {
    "name": "ipython",
    "version": 3
   },
   "file_extension": ".py",
   "mimetype": "text/x-python",
   "name": "python",
   "nbconvert_exporter": "python",
   "pygments_lexer": "ipython3",
   "version": "3.12.2"
  }
 },
 "nbformat": 4,
 "nbformat_minor": 5
}
