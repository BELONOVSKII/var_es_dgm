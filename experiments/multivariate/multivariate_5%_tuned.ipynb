{
 "cells": [
  {
   "cell_type": "code",
   "execution_count": 1,
   "id": "0",
   "metadata": {},
   "outputs": [],
   "source": [
    "# for correct relative imports\n",
    "import sys; sys.path.append(\"../var_dgm\")"
   ]
  },
  {
   "cell_type": "code",
   "execution_count": 2,
   "id": "1",
   "metadata": {},
   "outputs": [],
   "source": [
    "import warnings\n",
    "warnings.filterwarnings(\"ignore\")\n",
    "\n",
    "import torch\n",
    "from torch.utils.data import DataLoader, TensorDataset\n",
    "\n",
    "from diffusers import DDPMScheduler\n",
    "import pandas as pd\n",
    "import numpy as np\n",
    "from tqdm.auto import tqdm\n",
    "import matplotlib.pyplot as plt\n",
    "import seaborn as sns\n",
    "import pprint\n",
    "\n",
    "from sklearn.preprocessing import StandardScaler\n",
    "\n",
    "from var_dgm import TimeGrad\n",
    "from var_dgm.basic_models import HistoricalSimulation, VarCov\n",
    "from var_dgm.stat_tests import generate_report\n",
    "from var_dgm.utils import seed_everything, compute_individual_returns, compute_portfolio_returns, estimate_var_es_torch_multivariate"
   ]
  },
  {
   "cell_type": "code",
   "execution_count": 3,
   "id": "2",
   "metadata": {},
   "outputs": [],
   "source": [
    "sns.set_style(\"darkgrid\", {\"axes.facecolor\": \".9\"})\n",
    "sns.set_context(\"paper\")"
   ]
  },
  {
   "cell_type": "code",
   "execution_count": 4,
   "id": "3",
   "metadata": {},
   "outputs": [],
   "source": [
    "DATA_FOLDER = \"../../data/\"\n",
    "df = pd.read_csv(DATA_FOLDER + \"complete_stocks.csv\")\n",
    "df[\"Date\"] = pd.to_datetime(df[\"Date\"])"
   ]
  },
  {
   "cell_type": "code",
   "execution_count": 5,
   "id": "4",
   "metadata": {},
   "outputs": [
    {
     "data": {
      "text/plain": [
       "89"
      ]
     },
     "execution_count": 5,
     "metadata": {},
     "output_type": "execute_result"
    }
   ],
   "source": [
    "len(df[\"Ticker\"].unique())"
   ]
  },
  {
   "cell_type": "code",
   "execution_count": 6,
   "id": "5",
   "metadata": {},
   "outputs": [],
   "source": [
    "res_timeGrad = list()\n",
    "res_hist = list()\n",
    "res_varcov = list()\n",
    "alpha = 0.05"
   ]
  },
  {
   "cell_type": "code",
   "execution_count": 7,
   "id": "6",
   "metadata": {},
   "outputs": [],
   "source": [
    "RANDOM_STATE = 12"
   ]
  },
  {
   "cell_type": "code",
   "execution_count": 8,
   "id": "7",
   "metadata": {},
   "outputs": [
    {
     "name": "stdout",
     "output_type": "stream",
     "text": [
      "Portfolio = 0.1 * INTC + 0.1 * DHR + 0.1 * COP + 0.1 * MRK + 0.1 * HON + 0.1 * T + 0.1 * MSFT + 0.1 * AXP + 0.1 * PEP + 0.1 * SYK\n"
     ]
    },
    {
     "data": {
      "application/vnd.jupyter.widget-view+json": {
       "model_id": "a052fa2a49cb402f9b3374b91582c257",
       "version_major": 2,
       "version_minor": 0
      },
      "text/plain": [
       "  0%|          | 0/10 [00:00<?, ?it/s]"
      ]
     },
     "metadata": {},
     "output_type": "display_data"
    },
    {
     "data": {
      "application/vnd.jupyter.widget-view+json": {
       "model_id": "43232436119e4a2ca58fda176ce929f8",
       "version_major": 2,
       "version_minor": 0
      },
      "text/plain": [
       "  0%|          | 0/3000 [00:00<?, ?it/s]"
      ]
     },
     "metadata": {},
     "output_type": "display_data"
    },
    {
     "data": {
      "application/vnd.jupyter.widget-view+json": {
       "model_id": "0e98d12f6a5e4027bba0d327a1d8b2da",
       "version_major": 2,
       "version_minor": 0
      },
      "text/plain": [
       "Epochs:   0%|          | 0/96 [00:00<?, ?it/s]"
      ]
     },
     "metadata": {},
     "output_type": "display_data"
    },
    {
     "data": {
      "application/vnd.jupyter.widget-view+json": {
       "model_id": "69a5ae9f401e4e2490a432fbf54231fe",
       "version_major": 2,
       "version_minor": 0
      },
      "text/plain": [
       "  0%|          | 0/396 [00:00<?, ?it/s]"
      ]
     },
     "metadata": {},
     "output_type": "display_data"
    },
    {
     "data": {
      "application/vnd.jupyter.widget-view+json": {
       "model_id": "ece2fa04fd164cf99859099a81d13fbf",
       "version_major": 2,
       "version_minor": 0
      },
      "text/plain": [
       "  0%|          | 0/396 [00:00<?, ?it/s]"
      ]
     },
     "metadata": {},
     "output_type": "display_data"
    },
    {
     "data": {
      "application/vnd.jupyter.widget-view+json": {
       "model_id": "4239dab34ec148e894ce48de93a423ed",
       "version_major": 2,
       "version_minor": 0
      },
      "text/plain": [
       "  0%|          | 0/396 [00:00<?, ?it/s]"
      ]
     },
     "metadata": {},
     "output_type": "display_data"
    },
    {
     "name": "stdout",
     "output_type": "stream",
     "text": [
      "{'Kupicks POF': 0.7840049442155422, 'Haas TBF': 0.10518296725991584, 'Acerbi Szekely 1': 2.6804537773132324, 'Acerbi Szekely 2': 0.007107263896614313} {'Kupicks POF': 0.6179542611619433, 'Haas TBF': 0.04599640255700543, 'Acerbi Szekely 1': 2.40539813041687, 'Acerbi Szekely 2': 0.0066816615872085094} {'Kupicks POF': 0.5086437093214728, 'Haas TBF': 0.006220864350034933, 'Acerbi Szekely 1': 2.020491600036621, 'Acerbi Szekely 2': 0.004336914047598839}\n",
      "Portfolio = 0.1 * GE + 0.1 * ELV + 0.1 * DE + 0.1 * PG + 0.1 * BLK + 0.1 * CI + 0.1 * NVDA + 0.1 * MCD + 0.1 * NFLX + 0.1 * AAPL\n"
     ]
    },
    {
     "data": {
      "application/vnd.jupyter.widget-view+json": {
       "model_id": "583eccc704f84579afc26cfba5b3024d",
       "version_major": 2,
       "version_minor": 0
      },
      "text/plain": [
       "  0%|          | 0/10 [00:00<?, ?it/s]"
      ]
     },
     "metadata": {},
     "output_type": "display_data"
    },
    {
     "data": {
      "application/vnd.jupyter.widget-view+json": {
       "model_id": "db6f2aaf269f47758a768588e5c7a6d2",
       "version_major": 2,
       "version_minor": 0
      },
      "text/plain": [
       "  0%|          | 0/3000 [00:00<?, ?it/s]"
      ]
     },
     "metadata": {},
     "output_type": "display_data"
    },
    {
     "data": {
      "application/vnd.jupyter.widget-view+json": {
       "model_id": "0c3ca93513a549208d86c51ff05328f9",
       "version_major": 2,
       "version_minor": 0
      },
      "text/plain": [
       "Epochs:   0%|          | 0/96 [00:00<?, ?it/s]"
      ]
     },
     "metadata": {},
     "output_type": "display_data"
    },
    {
     "data": {
      "application/vnd.jupyter.widget-view+json": {
       "model_id": "9fc98d273a82474cac7aa63c2901f3fe",
       "version_major": 2,
       "version_minor": 0
      },
      "text/plain": [
       "  0%|          | 0/396 [00:00<?, ?it/s]"
      ]
     },
     "metadata": {},
     "output_type": "display_data"
    },
    {
     "data": {
      "application/vnd.jupyter.widget-view+json": {
       "model_id": "1db3f617a3ea4830b74d89d0032c78bb",
       "version_major": 2,
       "version_minor": 0
      },
      "text/plain": [
       "  0%|          | 0/396 [00:00<?, ?it/s]"
      ]
     },
     "metadata": {},
     "output_type": "display_data"
    },
    {
     "data": {
      "application/vnd.jupyter.widget-view+json": {
       "model_id": "c78aa1cc6b4c4bbd9ffa324bfecbe0ec",
       "version_major": 2,
       "version_minor": 0
      },
      "text/plain": [
       "  0%|          | 0/396 [00:00<?, ?it/s]"
      ]
     },
     "metadata": {},
     "output_type": "display_data"
    },
    {
     "name": "stdout",
     "output_type": "stream",
     "text": [
      "{'Kupicks POF': 0.0054767188855658734, 'Haas TBF': 0.14974322170234838, 'Acerbi Szekely 1': 2.7531964778900146, 'Acerbi Szekely 2': 0.0031286326702684164} {'Kupicks POF': 0.9632775216835524, 'Haas TBF': 0.012338289514030838, 'Acerbi Szekely 1': 2.281898021697998, 'Acerbi Szekely 2': 0.005762368440628052} {'Kupicks POF': 0.2484438497515893, 'Haas TBF': 0.12731070081789275, 'Acerbi Szekely 1': 1.8768728971481323, 'Acerbi Szekely 2': 0.003554683644324541}\n",
      "Portfolio = 0.1 * BA + 0.1 * KO + 0.1 * ACN + 0.1 * AMD + 0.1 * GE + 0.1 * COP + 0.1 * TMO + 0.1 * MO + 0.1 * NEE + 0.1 * CVX\n"
     ]
    },
    {
     "data": {
      "application/vnd.jupyter.widget-view+json": {
       "model_id": "40fa5745dc3e434697cd3c85aa96f1fe",
       "version_major": 2,
       "version_minor": 0
      },
      "text/plain": [
       "  0%|          | 0/10 [00:00<?, ?it/s]"
      ]
     },
     "metadata": {},
     "output_type": "display_data"
    },
    {
     "data": {
      "application/vnd.jupyter.widget-view+json": {
       "model_id": "6fea4ebf5d704ea9bee6c500382d39ce",
       "version_major": 2,
       "version_minor": 0
      },
      "text/plain": [
       "  0%|          | 0/3000 [00:00<?, ?it/s]"
      ]
     },
     "metadata": {},
     "output_type": "display_data"
    },
    {
     "data": {
      "application/vnd.jupyter.widget-view+json": {
       "model_id": "5e7c78a3236a4b67b475a9f6ff74f95a",
       "version_major": 2,
       "version_minor": 0
      },
      "text/plain": [
       "Epochs:   0%|          | 0/96 [00:00<?, ?it/s]"
      ]
     },
     "metadata": {},
     "output_type": "display_data"
    },
    {
     "data": {
      "application/vnd.jupyter.widget-view+json": {
       "model_id": "1b7e6dc1cc444d12abc51e1c6af9cdb4",
       "version_major": 2,
       "version_minor": 0
      },
      "text/plain": [
       "  0%|          | 0/396 [00:00<?, ?it/s]"
      ]
     },
     "metadata": {},
     "output_type": "display_data"
    },
    {
     "data": {
      "application/vnd.jupyter.widget-view+json": {
       "model_id": "877e8e825b2d40b788f0b2f2bb1149d2",
       "version_major": 2,
       "version_minor": 0
      },
      "text/plain": [
       "  0%|          | 0/396 [00:00<?, ?it/s]"
      ]
     },
     "metadata": {},
     "output_type": "display_data"
    },
    {
     "data": {
      "application/vnd.jupyter.widget-view+json": {
       "model_id": "225f682be95a44e992d65abba5a2e2fc",
       "version_major": 2,
       "version_minor": 0
      },
      "text/plain": [
       "  0%|          | 0/396 [00:00<?, ?it/s]"
      ]
     },
     "metadata": {},
     "output_type": "display_data"
    },
    {
     "name": "stdout",
     "output_type": "stream",
     "text": [
      "{'Kupicks POF': 0.6179542611619433, 'Haas TBF': 0.07181523290342348, 'Acerbi Szekely 1': 2.6213197708129883, 'Acerbi Szekely 2': 0.007281444501131773} {'Kupicks POF': 0.34795084125098275, 'Haas TBF': 0.050991297332903925, 'Acerbi Szekely 1': 2.3846428394317627, 'Acerbi Szekely 2': 0.007226190064102411} {'Kupicks POF': 0.8527157106323404, 'Haas TBF': 0.23204915767328352, 'Acerbi Szekely 1': 2.0397770404815674, 'Acerbi Szekely 2': 0.004893404897302389}\n",
      "Portfolio = 0.1 * T + 0.1 * TJX + 0.1 * MS + 0.1 * EOG + 0.1 * BAC + 0.1 * BLK + 0.1 * GS + 0.1 * GOOGL + 0.1 * JNJ + 0.1 * HD\n"
     ]
    },
    {
     "data": {
      "application/vnd.jupyter.widget-view+json": {
       "model_id": "3b5ff8ae17f84c929237f2d9db92f34e",
       "version_major": 2,
       "version_minor": 0
      },
      "text/plain": [
       "  0%|          | 0/10 [00:00<?, ?it/s]"
      ]
     },
     "metadata": {},
     "output_type": "display_data"
    },
    {
     "data": {
      "application/vnd.jupyter.widget-view+json": {
       "model_id": "0fe1f84ec0394e2896100794255e6642",
       "version_major": 2,
       "version_minor": 0
      },
      "text/plain": [
       "  0%|          | 0/3000 [00:00<?, ?it/s]"
      ]
     },
     "metadata": {},
     "output_type": "display_data"
    },
    {
     "data": {
      "application/vnd.jupyter.widget-view+json": {
       "model_id": "a803b09ce12448f190d97c7d64f1ddcc",
       "version_major": 2,
       "version_minor": 0
      },
      "text/plain": [
       "Epochs:   0%|          | 0/96 [00:00<?, ?it/s]"
      ]
     },
     "metadata": {},
     "output_type": "display_data"
    },
    {
     "data": {
      "application/vnd.jupyter.widget-view+json": {
       "model_id": "7f4607de846b4fcf8d95cbbcac300b62",
       "version_major": 2,
       "version_minor": 0
      },
      "text/plain": [
       "  0%|          | 0/396 [00:00<?, ?it/s]"
      ]
     },
     "metadata": {},
     "output_type": "display_data"
    },
    {
     "data": {
      "application/vnd.jupyter.widget-view+json": {
       "model_id": "d13701ba893c40dd97fd6b82b877d283",
       "version_major": 2,
       "version_minor": 0
      },
      "text/plain": [
       "  0%|          | 0/396 [00:00<?, ?it/s]"
      ]
     },
     "metadata": {},
     "output_type": "display_data"
    },
    {
     "data": {
      "application/vnd.jupyter.widget-view+json": {
       "model_id": "fcf7da978ccc4579b11681a570385593",
       "version_major": 2,
       "version_minor": 0
      },
      "text/plain": [
       "  0%|          | 0/396 [00:00<?, ?it/s]"
      ]
     },
     "metadata": {},
     "output_type": "display_data"
    },
    {
     "name": "stdout",
     "output_type": "stream",
     "text": [
      "{'Kupicks POF': 0.6735892621900934, 'Haas TBF': 0.0015242751149605425, 'Acerbi Szekely 1': 2.7180018424987793, 'Acerbi Szekely 2': 0.0061772773042321205} {'Kupicks POF': 0.24846668808638034, 'Haas TBF': 0.027086673103953896, 'Acerbi Szekely 1': 2.5479319095611572, 'Acerbi Szekely 2': 0.008042714558541775} {'Kupicks POF': 0.5086437093214728, 'Haas TBF': 0.026309460753674133, 'Acerbi Szekely 1': 2.087740421295166, 'Acerbi Szekely 2': 0.004481261130422354}\n",
      "Portfolio = 0.1 * CB + 0.1 * RTX + 0.1 * MS + 0.1 * NFLX + 0.1 * PG + 0.1 * XOM + 0.1 * MSFT + 0.1 * MDT + 0.1 * C + 0.1 * VZ\n"
     ]
    },
    {
     "data": {
      "application/vnd.jupyter.widget-view+json": {
       "model_id": "e0e24eff44db4f89a37f7ecf9430d64d",
       "version_major": 2,
       "version_minor": 0
      },
      "text/plain": [
       "  0%|          | 0/10 [00:00<?, ?it/s]"
      ]
     },
     "metadata": {},
     "output_type": "display_data"
    },
    {
     "data": {
      "application/vnd.jupyter.widget-view+json": {
       "model_id": "c2a208cfd68a44fea386c45e35e856df",
       "version_major": 2,
       "version_minor": 0
      },
      "text/plain": [
       "  0%|          | 0/3000 [00:00<?, ?it/s]"
      ]
     },
     "metadata": {},
     "output_type": "display_data"
    },
    {
     "data": {
      "application/vnd.jupyter.widget-view+json": {
       "model_id": "198f78b3c62e4be98afc1ac8c8848b5d",
       "version_major": 2,
       "version_minor": 0
      },
      "text/plain": [
       "Epochs:   0%|          | 0/96 [00:00<?, ?it/s]"
      ]
     },
     "metadata": {},
     "output_type": "display_data"
    },
    {
     "data": {
      "application/vnd.jupyter.widget-view+json": {
       "model_id": "83c99e9c607b4cb6b7fdb823ff3d5cce",
       "version_major": 2,
       "version_minor": 0
      },
      "text/plain": [
       "  0%|          | 0/396 [00:00<?, ?it/s]"
      ]
     },
     "metadata": {},
     "output_type": "display_data"
    },
    {
     "data": {
      "application/vnd.jupyter.widget-view+json": {
       "model_id": "23e524c3c07641d49dc884aeb76888e3",
       "version_major": 2,
       "version_minor": 0
      },
      "text/plain": [
       "  0%|          | 0/396 [00:00<?, ?it/s]"
      ]
     },
     "metadata": {},
     "output_type": "display_data"
    },
    {
     "data": {
      "application/vnd.jupyter.widget-view+json": {
       "model_id": "fbb98c1a058b4ddc901ede57219e5d1e",
       "version_major": 2,
       "version_minor": 0
      },
      "text/plain": [
       "  0%|          | 0/396 [00:00<?, ?it/s]"
      ]
     },
     "metadata": {},
     "output_type": "display_data"
    },
    {
     "name": "stdout",
     "output_type": "stream",
     "text": [
      "{'Kupicks POF': 0.2484438497515893, 'Haas TBF': 0.045579780359472286, 'Acerbi Szekely 1': 2.6528162956237793, 'Acerbi Szekely 2': 0.005024273414164782} {'Kupicks POF': 0.11478649504904463, 'Haas TBF': 0.038561088252113206, 'Acerbi Szekely 1': 2.3864657878875732, 'Acerbi Szekely 2': 0.008135679177939892} {'Kupicks POF': 0.8527157106323404, 'Haas TBF': 0.12667139932019633, 'Acerbi Szekely 1': 2.077404499053955, 'Acerbi Szekely 2': 0.00498367240652442}\n"
     ]
    }
   ],
   "source": [
    "for i in range(5):\n",
    "    # one complete cycle\n",
    "    seed_everything(RANDOM_STATE + i)\n",
    "    n_stocks = 10\n",
    "    tickers = np.random.choice(df[\"Ticker\"].unique(), n_stocks, replace=False)\n",
    "    weights = 1/n_stocks\n",
    "    print(\"Portfolio = {0}\".format(\" + \".join([f\"{weights} * {i}\"for i in tickers])))\n",
    "    df_copy = df.loc[df[\"Ticker\"].isin(tickers)].copy(deep=True)\n",
    "\n",
    "    df_returns = compute_individual_returns(df_copy)\n",
    "    df_returns = compute_portfolio_returns(df_returns)\n",
    "\n",
    "    return_cols = [i for i in df_returns.columns if (i.startswith(\"Return_\") and i != \"Return_Target\")]\n",
    "    multivariate_returns = df_returns[return_cols]\n",
    "    multivariate_target = df_returns[\"Return_Target\"]\n",
    "\n",
    "    multivariate_target = multivariate_target.values[1:]\n",
    "    train_size = df_returns[df_returns.Date <= \"2022-06-01\"].index[-1] + 1\n",
    "    test_size = len(multivariate_target) - train_size\n",
    "    train = multivariate_returns.values[1:train_size]\n",
    "\n",
    "    ss = StandardScaler()\n",
    "    train_scaled = torch.tensor(ss.fit_transform(train), dtype=torch.float32)\n",
    "\n",
    "    seed_everything(RANDOM_STATE)\n",
    "    context_size = 90\n",
    "    num_train_samples = 3000\n",
    "    train_data = torch.zeros(num_train_samples, context_size, train_scaled.shape[1])\n",
    "    train_target = torch.zeros(num_train_samples, 1, train_scaled.shape[1])\n",
    "    train_idx = np.random.choice(np.arange(context_size, train_scaled.shape[0]), num_train_samples, replace=False)\n",
    "\n",
    "    for i in tqdm(range(num_train_samples)):\n",
    "        idx = train_idx[i]\n",
    "        train_context = train_scaled[idx-context_size:idx]\n",
    "        target_obs = train_scaled[idx]\n",
    "        train_data[i] = train_context\n",
    "        train_target[i] = target_obs\n",
    "    \n",
    "    # Create DataLoader for ease of torch training\n",
    "    train_loader = DataLoader(TensorDataset(train_data, train_target), batch_size=128, shuffle=False)\n",
    "\n",
    "\n",
    "    temp = torch.tensor(ss.transform(multivariate_returns.values[1:]))\n",
    "    test_data_context = torch.zeros(test_size, context_size, temp.shape[1])\n",
    "    test_data_real = torch.zeros(test_size, 1, 1)\n",
    "    for i in range(test_size):\n",
    "        idx = i + train_size\n",
    "        test_data_context[i] = temp[idx-context_size:idx]\n",
    "        test_data_real[i] = multivariate_target[idx]\n",
    "\n",
    "    seed_everything(RANDOM_STATE)\n",
    "    sheduler = DDPMScheduler(num_train_timesteps=12, beta_end=0.022429104089340533, clip_sample=False)\n",
    "    model = TimeGrad(train.shape[-1], train.shape[-1], hidden_size=50, num_layers=2, scheduler=sheduler, num_inference_steps=12)\n",
    "    \n",
    "    \n",
    "    optimizer = torch.optim.Adam(model.parameters(), lr=0.0030588361272846074)\n",
    "    device = \"mps\"\n",
    "    n_epochs = 96\n",
    "    model.to(device);\n",
    "\n",
    "    model.fit(train_loader, optimizer, n_epochs, device)\n",
    "\n",
    "\n",
    "    seed_everything(RANDOM_STATE)\n",
    "    VaR_TimeGrad = torch.zeros(test_data_real.shape[0])\n",
    "    ES_TimeGrad = torch.zeros(test_data_real.shape[0])\n",
    "    \n",
    "    for i in tqdm(range(test_data_real.shape[0])):\n",
    "        test = test_data_context[[i]]\n",
    "        \n",
    "        # compute correlation matrix\n",
    "        pho = torch.corrcoef(torch.squeeze(test).T).to(torch.double)\n",
    "        \n",
    "        VaR_TimeGrad[i], ES_TimeGrad[i] = estimate_var_es_torch_multivariate(model, test, ss, pho, alpha=alpha, n_samples=500, device=\"mps\")\n",
    "\n",
    "    res_timeGrad.append(generate_report(test_data_real.flatten(), VaR_TimeGrad, ES_TimeGrad, alpha=alpha))\n",
    "\n",
    "    hist_sim = HistoricalSimulation(alpha=alpha)\n",
    "\n",
    "    VaR_histSim = torch.zeros(test_data_real.shape[0])\n",
    "    ES_histSim = torch.zeros(test_data_real.shape[0])\n",
    "    \n",
    "    for i in tqdm(range(test_data_real.shape[0])):\n",
    "        test = test_data_context[[i]]\n",
    "        VaR_histSim[i], ES_histSim[i] = hist_sim.predict(test_data_context[[i]], scaler=ss)\n",
    "    \n",
    "    res_hist.append(generate_report(test_data_real.flatten(), VaR_histSim, ES_histSim, alpha=alpha))\n",
    "    \n",
    "    var_cov = VarCov(alpha=alpha)\n",
    "    \n",
    "    VaR_varCov = torch.zeros(test_data_real.shape[0])\n",
    "    ES_varCov = torch.zeros(test_data_real.shape[0])\n",
    "    \n",
    "    for i in tqdm(range(test_data_real.shape[0])):\n",
    "        test = test_data_context[[i]]\n",
    "        VaR_varCov[i], ES_varCov[i] = var_cov.predict(test_data_context[[i]], scaler=ss)\n",
    "    \n",
    "    res_varcov.append(generate_report(test_data_real.flatten(), VaR_varCov, ES_varCov, alpha=alpha))\n",
    "\n",
    "    print(res_timeGrad[-1], res_hist[-1], res_varcov[-1])"
   ]
  },
  {
   "cell_type": "code",
   "execution_count": 9,
   "id": "8",
   "metadata": {},
   "outputs": [
    {
     "name": "stdout",
     "output_type": "stream",
     "text": [
      "[0.46589381 0.0747691  2.68515763 0.00574378]\n",
      "[0.45848716 0.03499475 2.40126734 0.00716972]\n",
      "[0.59423254 0.10371232 2.02045729 0.00444999]\n"
     ]
    }
   ],
   "source": [
    "print(np.array([list(i.values()) for i in res_timeGrad]).mean(axis=0))\n",
    "print(np.array([list(i.values()) for i in res_hist]).mean(axis=0))\n",
    "print(np.array([list(i.values()) for i in res_varcov]).mean(axis=0))"
   ]
  }
 ],
 "metadata": {
  "kernelspec": {
   "display_name": "Python 3 (ipykernel)",
   "language": "python",
   "name": "python3"
  },
  "language_info": {
   "codemirror_mode": {
    "name": "ipython",
    "version": 3
   },
   "file_extension": ".py",
   "mimetype": "text/x-python",
   "name": "python",
   "nbconvert_exporter": "python",
   "pygments_lexer": "ipython3",
   "version": "3.12.2"
  }
 },
 "nbformat": 4,
 "nbformat_minor": 5
}
