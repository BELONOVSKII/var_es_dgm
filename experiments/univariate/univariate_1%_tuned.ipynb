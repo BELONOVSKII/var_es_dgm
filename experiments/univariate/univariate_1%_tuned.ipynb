{
 "cells": [
  {
   "cell_type": "code",
   "execution_count": 1,
   "id": "9366a4aa-48e2-4548-aed8-8726288aa87a",
   "metadata": {},
   "outputs": [],
   "source": [
    "# for correct relative imports\n",
    "import sys; sys.path.append(\"../var_dgm\")"
   ]
  },
  {
   "cell_type": "code",
   "execution_count": 2,
   "id": "eabf5a39-bca5-456c-b9c5-c5362f18bef5",
   "metadata": {},
   "outputs": [],
   "source": [
    "import warnings\n",
    "warnings.filterwarnings(\"ignore\")\n",
    "\n",
    "import torch\n",
    "from torch.utils.data import DataLoader, TensorDataset\n",
    "\n",
    "from diffusers import DDPMScheduler\n",
    "import pandas as pd\n",
    "import numpy as np\n",
    "from tqdm.auto import tqdm\n",
    "import matplotlib.pyplot as plt\n",
    "import seaborn as sns\n",
    "import pprint\n",
    "\n",
    "from sklearn.preprocessing import StandardScaler\n",
    "\n",
    "from var_dgm import TimeGrad\n",
    "from var_dgm.basic_models import HistoricalSimulation, VarCov\n",
    "from var_dgm.stat_tests import generate_report\n",
    "from var_dgm.utils import seed_everything, compute_individual_returns, compute_portfolio_returns, estimate_var_es_torch"
   ]
  },
  {
   "cell_type": "code",
   "execution_count": 3,
   "id": "7e4145a0-4530-4a44-b3f1-f15cca280b14",
   "metadata": {},
   "outputs": [],
   "source": [
    "sns.set_style(\"darkgrid\", {\"axes.facecolor\": \".9\"})\n",
    "sns.set_context(\"paper\")"
   ]
  },
  {
   "cell_type": "code",
   "execution_count": 4,
   "id": "340eeae6-537f-4039-9001-dafaee9b7cb8",
   "metadata": {},
   "outputs": [],
   "source": [
    "DATA_FOLDER = \"../../data/\"\n",
    "df = pd.read_csv(DATA_FOLDER + \"complete_stocks.csv\")\n",
    "df[\"Date\"] = pd.to_datetime(df[\"Date\"])"
   ]
  },
  {
   "cell_type": "code",
   "execution_count": 5,
   "id": "adc9f660-8831-4450-9aa8-2c226fd40013",
   "metadata": {},
   "outputs": [
    {
     "data": {
      "text/plain": [
       "89"
      ]
     },
     "execution_count": 5,
     "metadata": {},
     "output_type": "execute_result"
    }
   ],
   "source": [
    "len(df[\"Ticker\"].unique())"
   ]
  },
  {
   "cell_type": "markdown",
   "id": "005a8c8b-e2df-48a3-9bb8-6734a37d1019",
   "metadata": {},
   "source": [
    "## 1% "
   ]
  },
  {
   "cell_type": "code",
   "execution_count": 6,
   "id": "2513d1f0-c08e-4b1a-9e6e-caf6f1c921f2",
   "metadata": {},
   "outputs": [
    {
     "name": "stdout",
     "output_type": "stream",
     "text": [
      "Portfolio = 0.1 * INTC + 0.1 * DHR + 0.1 * COP + 0.1 * MRK + 0.1 * HON + 0.1 * T + 0.1 * MSFT + 0.1 * AXP + 0.1 * PEP + 0.1 * SYK\n"
     ]
    },
    {
     "data": {
      "application/vnd.jupyter.widget-view+json": {
       "model_id": "5e8129d6baca442fb44e88b4f8d32e49",
       "version_major": 2,
       "version_minor": 0
      },
      "text/plain": [
       "  0%|          | 0/10 [00:00<?, ?it/s]"
      ]
     },
     "metadata": {},
     "output_type": "display_data"
    },
    {
     "data": {
      "application/vnd.jupyter.widget-view+json": {
       "model_id": "85731caa475e409b86f98c7582ed4c30",
       "version_major": 2,
       "version_minor": 0
      },
      "text/plain": [
       "  0%|          | 0/3000 [00:00<?, ?it/s]"
      ]
     },
     "metadata": {},
     "output_type": "display_data"
    },
    {
     "data": {
      "application/vnd.jupyter.widget-view+json": {
       "model_id": "f0c14d391ab246acb0a02f659c7b9079",
       "version_major": 2,
       "version_minor": 0
      },
      "text/plain": [
       "Epochs:   0%|          | 0/88 [00:00<?, ?it/s]"
      ]
     },
     "metadata": {},
     "output_type": "display_data"
    },
    {
     "data": {
      "application/vnd.jupyter.widget-view+json": {
       "model_id": "7722e3289c804cebbf545584957f36dd",
       "version_major": 2,
       "version_minor": 0
      },
      "text/plain": [
       "  0%|          | 0/396 [00:00<?, ?it/s]"
      ]
     },
     "metadata": {},
     "output_type": "display_data"
    },
    {
     "data": {
      "application/vnd.jupyter.widget-view+json": {
       "model_id": "4107e155ebb04eeab7666eeb501fe90a",
       "version_major": 2,
       "version_minor": 0
      },
      "text/plain": [
       "  0%|          | 0/396 [00:00<?, ?it/s]"
      ]
     },
     "metadata": {},
     "output_type": "display_data"
    },
    {
     "data": {
      "application/vnd.jupyter.widget-view+json": {
       "model_id": "d84bc731742946c6a06cc90bebc95c67",
       "version_major": 2,
       "version_minor": 0
      },
      "text/plain": [
       "  0%|          | 0/396 [00:00<?, ?it/s]"
      ]
     },
     "metadata": {},
     "output_type": "display_data"
    },
    {
     "name": "stdout",
     "output_type": "stream",
     "text": [
      "{'Kupicks POF': 0.33831157927013206, 'Haas TBF': 0.44969390194611014, 'Acerbi Szekely 1': 2.013489007949829, 'Acerbi Szekely 2': 0.0003050740633625537} {'Kupicks POF': 0.6124944699749673, 'Haas TBF': 0.49884875144285634, 'Acerbi Szekely 1': 2.0848894119262695, 'Acerbi Szekely 2': 0.00015794615319464356} {'Kupicks POF': 0.6124944699749673, 'Haas TBF': 0.49884875144285634, 'Acerbi Szekely 1': 2.188063383102417, 'Acerbi Szekely 2': 0.00016576237976551056}\n",
      "Portfolio = 0.1 * GE + 0.1 * ELV + 0.1 * DE + 0.1 * PG + 0.1 * BLK + 0.1 * CI + 0.1 * NVDA + 0.1 * MCD + 0.1 * NFLX + 0.1 * AAPL\n"
     ]
    },
    {
     "data": {
      "application/vnd.jupyter.widget-view+json": {
       "model_id": "3a11995d5eb24b9a9a26c718b8afe7b3",
       "version_major": 2,
       "version_minor": 0
      },
      "text/plain": [
       "  0%|          | 0/10 [00:00<?, ?it/s]"
      ]
     },
     "metadata": {},
     "output_type": "display_data"
    },
    {
     "data": {
      "application/vnd.jupyter.widget-view+json": {
       "model_id": "39f89c6e5b9149d29ec3b0f27fc33253",
       "version_major": 2,
       "version_minor": 0
      },
      "text/plain": [
       "  0%|          | 0/3000 [00:00<?, ?it/s]"
      ]
     },
     "metadata": {},
     "output_type": "display_data"
    },
    {
     "data": {
      "application/vnd.jupyter.widget-view+json": {
       "model_id": "a52b5776cdb24cf29622cfc5cc0ad60f",
       "version_major": 2,
       "version_minor": 0
      },
      "text/plain": [
       "Epochs:   0%|          | 0/88 [00:00<?, ?it/s]"
      ]
     },
     "metadata": {},
     "output_type": "display_data"
    },
    {
     "data": {
      "application/vnd.jupyter.widget-view+json": {
       "model_id": "240be7b0da1e45b0ba3da904684ea3c7",
       "version_major": 2,
       "version_minor": 0
      },
      "text/plain": [
       "  0%|          | 0/396 [00:00<?, ?it/s]"
      ]
     },
     "metadata": {},
     "output_type": "display_data"
    },
    {
     "data": {
      "application/vnd.jupyter.widget-view+json": {
       "model_id": "6acacbb18afe4eea85e3cfc4867896d3",
       "version_major": 2,
       "version_minor": 0
      },
      "text/plain": [
       "  0%|          | 0/396 [00:00<?, ?it/s]"
      ]
     },
     "metadata": {},
     "output_type": "display_data"
    },
    {
     "data": {
      "application/vnd.jupyter.widget-view+json": {
       "model_id": "dd3916ec390646e8b4fbba1b62d1a3c7",
       "version_major": 2,
       "version_minor": 0
      },
      "text/plain": [
       "  0%|          | 0/396 [00:00<?, ?it/s]"
      ]
     },
     "metadata": {},
     "output_type": "display_data"
    },
    {
     "name": "stdout",
     "output_type": "stream",
     "text": [
      "{'Kupicks POF': 0.9839089602677263, 'Haas TBF': 0.874271008861469, 'Acerbi Szekely 1': 2.223659038543701, 'Acerbi Szekely 2': 0.0002246120129711926} {'Kupicks POF': 0.33831157927013206, 'Haas TBF': 0.19163795718638887, 'Acerbi Szekely 1': 1.9543298482894897, 'Acerbi Szekely 2': 0.0002961105783469975} {'Kupicks POF': 0.0740988658366811, 'Haas TBF': nan, 'Acerbi Szekely 1': 2.124439239501953, 'Acerbi Szekely 2': 5.3647454478777945e-05}\n",
      "Portfolio = 0.1 * BA + 0.1 * KO + 0.1 * ACN + 0.1 * AMD + 0.1 * GE + 0.1 * COP + 0.1 * TMO + 0.1 * MO + 0.1 * NEE + 0.1 * CVX\n"
     ]
    },
    {
     "data": {
      "application/vnd.jupyter.widget-view+json": {
       "model_id": "7a8d26f885ae4571a846fbd01e41a9a9",
       "version_major": 2,
       "version_minor": 0
      },
      "text/plain": [
       "  0%|          | 0/10 [00:00<?, ?it/s]"
      ]
     },
     "metadata": {},
     "output_type": "display_data"
    },
    {
     "data": {
      "application/vnd.jupyter.widget-view+json": {
       "model_id": "7729a0653b254b4c8af2c7c5af732170",
       "version_major": 2,
       "version_minor": 0
      },
      "text/plain": [
       "  0%|          | 0/3000 [00:00<?, ?it/s]"
      ]
     },
     "metadata": {},
     "output_type": "display_data"
    },
    {
     "data": {
      "application/vnd.jupyter.widget-view+json": {
       "model_id": "bdcf9e1fe05d47deb3848e0a6ff5927b",
       "version_major": 2,
       "version_minor": 0
      },
      "text/plain": [
       "Epochs:   0%|          | 0/88 [00:00<?, ?it/s]"
      ]
     },
     "metadata": {},
     "output_type": "display_data"
    },
    {
     "data": {
      "application/vnd.jupyter.widget-view+json": {
       "model_id": "64838e19b5e342bfb298277449ca52cd",
       "version_major": 2,
       "version_minor": 0
      },
      "text/plain": [
       "  0%|          | 0/396 [00:00<?, ?it/s]"
      ]
     },
     "metadata": {},
     "output_type": "display_data"
    },
    {
     "data": {
      "application/vnd.jupyter.widget-view+json": {
       "model_id": "2953aa8f40bd4524b82dfe0f19bdcbd2",
       "version_major": 2,
       "version_minor": 0
      },
      "text/plain": [
       "  0%|          | 0/396 [00:00<?, ?it/s]"
      ]
     },
     "metadata": {},
     "output_type": "display_data"
    },
    {
     "data": {
      "application/vnd.jupyter.widget-view+json": {
       "model_id": "56cabc785e844294b26034851ef326d0",
       "version_major": 2,
       "version_minor": 0
      },
      "text/plain": [
       "  0%|          | 0/396 [00:00<?, ?it/s]"
      ]
     },
     "metadata": {},
     "output_type": "display_data"
    },
    {
     "name": "stdout",
     "output_type": "stream",
     "text": [
      "{'Kupicks POF': 0.6124944699749673, 'Haas TBF': 0.5529635815817382, 'Acerbi Szekely 1': 1.9083408117294312, 'Acerbi Szekely 2': 0.00014457126962952316} {'Kupicks POF': 0.27384288964871895, 'Haas TBF': 0.8025191992558134, 'Acerbi Szekely 1': 2.2042269706726074, 'Acerbi Szekely 2': 0.00011132458894280717} {'Kupicks POF': 0.9839089602677263, 'Haas TBF': 0.9260455867592424, 'Acerbi Szekely 1': 2.0393364429473877, 'Acerbi Szekely 2': 0.00020599357958417386}\n",
      "Portfolio = 0.1 * T + 0.1 * TJX + 0.1 * MS + 0.1 * EOG + 0.1 * BAC + 0.1 * BLK + 0.1 * GS + 0.1 * GOOGL + 0.1 * JNJ + 0.1 * HD\n"
     ]
    },
    {
     "data": {
      "application/vnd.jupyter.widget-view+json": {
       "model_id": "117d107662cd45298d21f2c3e2f6438d",
       "version_major": 2,
       "version_minor": 0
      },
      "text/plain": [
       "  0%|          | 0/10 [00:00<?, ?it/s]"
      ]
     },
     "metadata": {},
     "output_type": "display_data"
    },
    {
     "data": {
      "application/vnd.jupyter.widget-view+json": {
       "model_id": "0f3df885381f47eabb9c8e5ead315a06",
       "version_major": 2,
       "version_minor": 0
      },
      "text/plain": [
       "  0%|          | 0/3000 [00:00<?, ?it/s]"
      ]
     },
     "metadata": {},
     "output_type": "display_data"
    },
    {
     "data": {
      "application/vnd.jupyter.widget-view+json": {
       "model_id": "71b81f7967904c19b7624babeb9462ff",
       "version_major": 2,
       "version_minor": 0
      },
      "text/plain": [
       "Epochs:   0%|          | 0/88 [00:00<?, ?it/s]"
      ]
     },
     "metadata": {},
     "output_type": "display_data"
    },
    {
     "data": {
      "application/vnd.jupyter.widget-view+json": {
       "model_id": "652ce80475c54104a18dced46913c453",
       "version_major": 2,
       "version_minor": 0
      },
      "text/plain": [
       "  0%|          | 0/396 [00:00<?, ?it/s]"
      ]
     },
     "metadata": {},
     "output_type": "display_data"
    },
    {
     "data": {
      "application/vnd.jupyter.widget-view+json": {
       "model_id": "0aa6ef1707d1479bafc0af065dfb483f",
       "version_major": 2,
       "version_minor": 0
      },
      "text/plain": [
       "  0%|          | 0/396 [00:00<?, ?it/s]"
      ]
     },
     "metadata": {},
     "output_type": "display_data"
    },
    {
     "data": {
      "application/vnd.jupyter.widget-view+json": {
       "model_id": "597a28a250c74f069c8a5781bd2bd2cd",
       "version_major": 2,
       "version_minor": 0
      },
      "text/plain": [
       "  0%|          | 0/396 [00:00<?, ?it/s]"
      ]
     },
     "metadata": {},
     "output_type": "display_data"
    },
    {
     "name": "stdout",
     "output_type": "stream",
     "text": [
      "{'Kupicks POF': 0.6124944699749673, 'Haas TBF': 0.36059701039762193, 'Acerbi Szekely 1': 2.084989547729492, 'Acerbi Szekely 2': 0.000157953763846308} {'Kupicks POF': 0.165971353955659, 'Haas TBF': 0.18135760135181025, 'Acerbi Szekely 1': 2.0799975395202637, 'Acerbi Szekely 2': 0.000367676344467327} {'Kupicks POF': 0.9839089602677263, 'Haas TBF': 0.23617391383393366, 'Acerbi Szekely 1': 2.114431858062744, 'Acerbi Szekely 2': 0.00021357896912377328}\n",
      "Portfolio = 0.1 * CB + 0.1 * RTX + 0.1 * MS + 0.1 * NFLX + 0.1 * PG + 0.1 * XOM + 0.1 * MSFT + 0.1 * MDT + 0.1 * C + 0.1 * VZ\n"
     ]
    },
    {
     "data": {
      "application/vnd.jupyter.widget-view+json": {
       "model_id": "fbb8028aca374ac2a23eef33e2bdc159",
       "version_major": 2,
       "version_minor": 0
      },
      "text/plain": [
       "  0%|          | 0/10 [00:00<?, ?it/s]"
      ]
     },
     "metadata": {},
     "output_type": "display_data"
    },
    {
     "data": {
      "application/vnd.jupyter.widget-view+json": {
       "model_id": "110d27e1547a4572a5a866c66008e64c",
       "version_major": 2,
       "version_minor": 0
      },
      "text/plain": [
       "  0%|          | 0/3000 [00:00<?, ?it/s]"
      ]
     },
     "metadata": {},
     "output_type": "display_data"
    },
    {
     "data": {
      "application/vnd.jupyter.widget-view+json": {
       "model_id": "fba6b7ee883a45199a29bbb98a121a82",
       "version_major": 2,
       "version_minor": 0
      },
      "text/plain": [
       "Epochs:   0%|          | 0/88 [00:00<?, ?it/s]"
      ]
     },
     "metadata": {},
     "output_type": "display_data"
    },
    {
     "data": {
      "application/vnd.jupyter.widget-view+json": {
       "model_id": "65fa5fb670124c3d8455a99b7d596595",
       "version_major": 2,
       "version_minor": 0
      },
      "text/plain": [
       "  0%|          | 0/396 [00:00<?, ?it/s]"
      ]
     },
     "metadata": {},
     "output_type": "display_data"
    },
    {
     "data": {
      "application/vnd.jupyter.widget-view+json": {
       "model_id": "98bf0e572f56445db3f8d0ecc6c539fd",
       "version_major": 2,
       "version_minor": 0
      },
      "text/plain": [
       "  0%|          | 0/396 [00:00<?, ?it/s]"
      ]
     },
     "metadata": {},
     "output_type": "display_data"
    },
    {
     "data": {
      "application/vnd.jupyter.widget-view+json": {
       "model_id": "acf3e777c17340e0ac279c12181ac603",
       "version_major": 2,
       "version_minor": 0
      },
      "text/plain": [
       "  0%|          | 0/396 [00:00<?, ?it/s]"
      ]
     },
     "metadata": {},
     "output_type": "display_data"
    },
    {
     "name": "stdout",
     "output_type": "stream",
     "text": [
      "{'Kupicks POF': 0.9839089602677263, 'Haas TBF': 0.4811682794352651, 'Acerbi Szekely 1': 1.8166427612304688, 'Acerbi Szekely 2': 0.00018349925812799484} {'Kupicks POF': 0.9839089602677263, 'Haas TBF': 0.11777638177555866, 'Acerbi Szekely 1': 1.9719154834747314, 'Acerbi Szekely 2': 0.00019918337056878954} {'Kupicks POF': 0.6124944699749673, 'Haas TBF': 0.35891287510350023, 'Acerbi Szekely 1': 1.91619074344635, 'Acerbi Szekely 2': 0.00014516596274916083}\n"
     ]
    }
   ],
   "source": [
    "res_timeGrad = list()\n",
    "res_hist = list()\n",
    "res_varcov = list()\n",
    "alpha = 0.01\n",
    "RANDOM_STATE = 12\n",
    "\n",
    "for i in range(5):\n",
    "    # one complete cycle\n",
    "    seed_everything(RANDOM_STATE + i)\n",
    "    n_stocks = 10\n",
    "    tickers = np.random.choice(df[\"Ticker\"].unique(), n_stocks, replace=False)\n",
    "    weights = 1/n_stocks\n",
    "    print(\"Portfolio = {0}\".format(\" + \".join([f\"{weights} * {i}\"for i in tickers])))\n",
    "    df_copy = df.loc[df[\"Ticker\"].isin(tickers)].copy(deep=True)\n",
    "\n",
    "    df_returns = compute_individual_returns(df_copy)\n",
    "    df_returns = compute_portfolio_returns(df_returns)\n",
    "\n",
    "    univariate_target = df_returns[\"Return_Target\"]\n",
    "\n",
    "    univariate_target = univariate_target.values[1:]\n",
    "    train_size = df_returns[df_returns.Date <= \"2022-06-01\"].index[-1] + 1\n",
    "    test_size = len(univariate_target) - train_size\n",
    "    train = univariate_target[:train_size]\n",
    "\n",
    "    ss = StandardScaler()\n",
    "    train_scaled = torch.tensor(ss.fit_transform(train.reshape(-1, 1)), dtype=torch.float32)\n",
    "\n",
    "    seed_everything(RANDOM_STATE)\n",
    "    context_size = 90\n",
    "    num_train_samples = 3000\n",
    "    train_data = torch.zeros(num_train_samples, context_size, train_scaled.shape[1])\n",
    "    train_target = torch.zeros(num_train_samples, 1, train_scaled.shape[1])\n",
    "    train_idx = np.random.choice(np.arange(context_size, train_scaled.shape[0]), num_train_samples, replace=False)\n",
    "    \n",
    "    for i in tqdm(range(num_train_samples)):\n",
    "        idx = train_idx[i]\n",
    "        train_context = train_scaled[idx-context_size:idx]\n",
    "        target_obs = train_scaled[idx]\n",
    "        train_data[i] = train_context\n",
    "        train_target[i] = target_obs\n",
    "\n",
    "    # Create DataLoader for ease of torch training\n",
    "    train_loader = DataLoader(TensorDataset(train_data, train_target), batch_size=128, shuffle=False)\n",
    "\n",
    "\n",
    "    temp = torch.tensor(ss.transform(univariate_target.reshape(-1, 1)))\n",
    "    test_data_context = torch.zeros(test_size, context_size, temp.shape[1])\n",
    "    test_data_real = torch.zeros(test_size, 1, temp.shape[1])\n",
    "    for i in range(test_size):\n",
    "        idx = i + train_size\n",
    "        test_data_context[i] = temp[idx-context_size:idx]\n",
    "        test_data_real[i] = temp[idx]\n",
    "\n",
    "    seed_everything(RANDOM_STATE)\n",
    "    sheduler = DDPMScheduler(num_train_timesteps=18, beta_end=0.2901444414255984, clip_sample=False)\n",
    "    model = TimeGrad(1, 1, hidden_size=50, num_layers=2, scheduler=sheduler, num_inference_steps=18)\n",
    "    \n",
    "    \n",
    "    optimizer = torch.optim.Adam(model.parameters(), lr=0.001898390960977473)\n",
    "    device = \"mps\"\n",
    "    n_epochs = 88\n",
    "    model.to(device);\n",
    "\n",
    "    model.fit(train_loader, optimizer, n_epochs, device)\n",
    "\n",
    "\n",
    "    seed_everything(RANDOM_STATE)\n",
    "    VaR_TimeGrad = torch.zeros(test_data_real.shape[0])\n",
    "    ES_TimeGrad = torch.zeros(test_data_real.shape[0])\n",
    "    \n",
    "    for i in tqdm(range(test_data_real.shape[0])):\n",
    "        test = test_data_context[[i]]\n",
    "        VaR_TimeGrad[i], ES_TimeGrad[i] = estimate_var_es_torch(model, test, alpha=alpha, n_samples=500, device=\"mps\")\n",
    "\n",
    "    res_timeGrad.append(generate_report(test_data_real.flatten(), VaR_TimeGrad, ES_TimeGrad, alpha=alpha))\n",
    "\n",
    "    hist_sim = HistoricalSimulation(alpha=alpha)\n",
    "\n",
    "    VaR_histSim = torch.zeros(test_data_real.shape[0])\n",
    "    ES_histSim = torch.zeros(test_data_real.shape[0])\n",
    "    \n",
    "    for i in tqdm(range(test_data_real.shape[0])):\n",
    "        test = test_data_context[[i]]\n",
    "        VaR_histSim[i], ES_histSim[i] = hist_sim.predict(test)\n",
    "    \n",
    "    res_hist.append(generate_report(test_data_real.flatten(), VaR_histSim, ES_histSim, alpha=alpha))\n",
    "    \n",
    "    var_cov = VarCov(alpha=alpha)\n",
    "    \n",
    "    VaR_varCov = torch.zeros(test_data_real.shape[0])\n",
    "    ES_varCov = torch.zeros(test_data_real.shape[0])\n",
    "    \n",
    "    for i in tqdm(range(test_data_real.shape[0])):\n",
    "        test = test_data_context[[i]]\n",
    "        VaR_varCov[i], ES_varCov[i] = var_cov.predict(test)\n",
    "    \n",
    "    res_varcov.append(generate_report(test_data_real.flatten(), VaR_varCov, ES_varCov, alpha=alpha))\n",
    "\n",
    "    print(res_timeGrad[-1], res_hist[-1], res_varcov[-1])"
   ]
  },
  {
   "cell_type": "code",
   "execution_count": 7,
   "id": "12573fc9-fbdb-4fee-89e3-207c6488579e",
   "metadata": {},
   "outputs": [
    {
     "name": "stdout",
     "output_type": "stream",
     "text": [
      "[7.06223688e-01 5.43738756e-01 2.00942423e+00 2.03142074e-04]\n",
      "[4.74905851e-01 3.58427978e-01 2.05907185e+00 2.26448207e-04]\n",
      "[6.53381145e-01            nan 2.07649233e+00 1.56829669e-04]\n"
     ]
    }
   ],
   "source": [
    "print(np.array([list(i.values()) for i in res_timeGrad]).mean(axis=0))\n",
    "print(np.array([list(i.values()) for i in res_hist]).mean(axis=0))\n",
    "print(np.array([list(i.values()) for i in res_varcov]).mean(axis=0))"
   ]
  },
  {
   "cell_type": "code",
   "execution_count": null,
   "id": "764709dc-44df-4261-884d-8f22bfffda1c",
   "metadata": {},
   "outputs": [],
   "source": []
  }
 ],
 "metadata": {
  "kernelspec": {
   "display_name": "Python 3 (ipykernel)",
   "language": "python",
   "name": "python3"
  },
  "language_info": {
   "codemirror_mode": {
    "name": "ipython",
    "version": 3
   },
   "file_extension": ".py",
   "mimetype": "text/x-python",
   "name": "python",
   "nbconvert_exporter": "python",
   "pygments_lexer": "ipython3",
   "version": "3.10.13"
  }
 },
 "nbformat": 4,
 "nbformat_minor": 5
}
