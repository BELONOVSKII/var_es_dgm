{
 "cells": [
  {
   "cell_type": "code",
   "execution_count": 1,
   "id": "9366a4aa-48e2-4548-aed8-8726288aa87a",
   "metadata": {},
   "outputs": [],
   "source": [
    "# for correct relative imports\n",
    "import sys; sys.path.append(\"../var_dgm\")"
   ]
  },
  {
   "cell_type": "code",
   "execution_count": 2,
   "id": "eabf5a39-bca5-456c-b9c5-c5362f18bef5",
   "metadata": {},
   "outputs": [],
   "source": [
    "import warnings\n",
    "warnings.filterwarnings(\"ignore\")\n",
    "\n",
    "import torch\n",
    "from torch.utils.data import DataLoader, TensorDataset\n",
    "\n",
    "from diffusers import DDPMScheduler\n",
    "import pandas as pd\n",
    "import numpy as np\n",
    "from tqdm.auto import tqdm\n",
    "import matplotlib.pyplot as plt\n",
    "import seaborn as sns\n",
    "import pprint\n",
    "\n",
    "from sklearn.preprocessing import StandardScaler\n",
    "\n",
    "from var_dgm import TimeGrad\n",
    "from var_dgm.basic_models import HistoricalSimulation, VarCov\n",
    "from var_dgm.stat_tests import generate_report\n",
    "from var_dgm.utils import seed_everything, compute_individual_returns, compute_portfolio_returns, estimate_var_es_torch"
   ]
  },
  {
   "cell_type": "code",
   "execution_count": 3,
   "id": "7e4145a0-4530-4a44-b3f1-f15cca280b14",
   "metadata": {},
   "outputs": [],
   "source": [
    "sns.set_style(\"darkgrid\", {\"axes.facecolor\": \".9\"})\n",
    "sns.set_context(\"paper\")"
   ]
  },
  {
   "cell_type": "code",
   "execution_count": 4,
   "id": "340eeae6-537f-4039-9001-dafaee9b7cb8",
   "metadata": {},
   "outputs": [],
   "source": [
    "DATA_FOLDER = \"../../data/\"\n",
    "df = pd.read_csv(DATA_FOLDER + \"complete_stocks.csv\")\n",
    "df[\"Date\"] = pd.to_datetime(df[\"Date\"])"
   ]
  },
  {
   "cell_type": "code",
   "execution_count": 5,
   "id": "adc9f660-8831-4450-9aa8-2c226fd40013",
   "metadata": {},
   "outputs": [
    {
     "data": {
      "text/plain": [
       "89"
      ]
     },
     "execution_count": 5,
     "metadata": {},
     "output_type": "execute_result"
    }
   ],
   "source": [
    "len(df[\"Ticker\"].unique())"
   ]
  },
  {
   "cell_type": "markdown",
   "id": "879e3526-a7a9-4cc1-a67d-498d22ca5683",
   "metadata": {},
   "source": [
    "## 5%"
   ]
  },
  {
   "cell_type": "code",
   "execution_count": 6,
   "id": "f900fc10-5c67-4edb-87ec-f86476d48da9",
   "metadata": {},
   "outputs": [
    {
     "name": "stdout",
     "output_type": "stream",
     "text": [
      "Portfolio = 0.1 * INTC + 0.1 * DHR + 0.1 * COP + 0.1 * MRK + 0.1 * HON + 0.1 * T + 0.1 * MSFT + 0.1 * AXP + 0.1 * PEP + 0.1 * SYK\n"
     ]
    },
    {
     "data": {
      "application/vnd.jupyter.widget-view+json": {
       "model_id": "07be359f1d4145e3b211d9f860679b68",
       "version_major": 2,
       "version_minor": 0
      },
      "text/plain": [
       "  0%|          | 0/10 [00:00<?, ?it/s]"
      ]
     },
     "metadata": {},
     "output_type": "display_data"
    },
    {
     "data": {
      "application/vnd.jupyter.widget-view+json": {
       "model_id": "51a5d60dff90498f8a94a61df9f1e4e3",
       "version_major": 2,
       "version_minor": 0
      },
      "text/plain": [
       "  0%|          | 0/3000 [00:00<?, ?it/s]"
      ]
     },
     "metadata": {},
     "output_type": "display_data"
    },
    {
     "data": {
      "application/vnd.jupyter.widget-view+json": {
       "model_id": "d71ee5850d5844fea22d951b972550da",
       "version_major": 2,
       "version_minor": 0
      },
      "text/plain": [
       "Epochs:   0%|          | 0/31 [00:00<?, ?it/s]"
      ]
     },
     "metadata": {},
     "output_type": "display_data"
    },
    {
     "data": {
      "application/vnd.jupyter.widget-view+json": {
       "model_id": "d3e7854772c449deae88342197d3ce88",
       "version_major": 2,
       "version_minor": 0
      },
      "text/plain": [
       "  0%|          | 0/396 [00:00<?, ?it/s]"
      ]
     },
     "metadata": {},
     "output_type": "display_data"
    },
    {
     "data": {
      "application/vnd.jupyter.widget-view+json": {
       "model_id": "1a76bc11014845c5a85970c15a40c718",
       "version_major": 2,
       "version_minor": 0
      },
      "text/plain": [
       "  0%|          | 0/396 [00:00<?, ?it/s]"
      ]
     },
     "metadata": {},
     "output_type": "display_data"
    },
    {
     "data": {
      "application/vnd.jupyter.widget-view+json": {
       "model_id": "4638669edb874e2596c61727e2933f91",
       "version_major": 2,
       "version_minor": 0
      },
      "text/plain": [
       "  0%|          | 0/396 [00:00<?, ?it/s]"
      ]
     },
     "metadata": {},
     "output_type": "display_data"
    },
    {
     "name": "stdout",
     "output_type": "stream",
     "text": [
      "{'Kupicks POF': 0.3653929983513471, 'Haas TBF': 0.9006353903393801, 'Acerbi Szekely 1': 2.0897717475891113, 'Acerbi Szekely 2': 0.004221761133521795} {'Kupicks POF': 0.2484438497515893, 'Haas TBF': 0.14259249021798934, 'Acerbi Szekely 1': 1.9896026849746704, 'Acerbi Szekely 2': 0.003768187016248703} {'Kupicks POF': 0.15902475231004007, 'Haas TBF': 0.05160257631902664, 'Acerbi Szekely 1': 2.089677333831787, 'Acerbi Szekely 2': 0.0036938737612217665}\n",
      "Portfolio = 0.1 * GE + 0.1 * ELV + 0.1 * DE + 0.1 * PG + 0.1 * BLK + 0.1 * CI + 0.1 * NVDA + 0.1 * MCD + 0.1 * NFLX + 0.1 * AAPL\n"
     ]
    },
    {
     "data": {
      "application/vnd.jupyter.widget-view+json": {
       "model_id": "9fbf62e56cda4f10a0435f6b07673ee7",
       "version_major": 2,
       "version_minor": 0
      },
      "text/plain": [
       "  0%|          | 0/10 [00:00<?, ?it/s]"
      ]
     },
     "metadata": {},
     "output_type": "display_data"
    },
    {
     "data": {
      "application/vnd.jupyter.widget-view+json": {
       "model_id": "ecde02d697504b028ecf50e89167615a",
       "version_major": 2,
       "version_minor": 0
      },
      "text/plain": [
       "  0%|          | 0/3000 [00:00<?, ?it/s]"
      ]
     },
     "metadata": {},
     "output_type": "display_data"
    },
    {
     "data": {
      "application/vnd.jupyter.widget-view+json": {
       "model_id": "8b7d5cbe869d48ac96c7967e9f06f17e",
       "version_major": 2,
       "version_minor": 0
      },
      "text/plain": [
       "Epochs:   0%|          | 0/31 [00:00<?, ?it/s]"
      ]
     },
     "metadata": {},
     "output_type": "display_data"
    },
    {
     "data": {
      "application/vnd.jupyter.widget-view+json": {
       "model_id": "7ca03b4989174a79b734201884e406a2",
       "version_major": 2,
       "version_minor": 0
      },
      "text/plain": [
       "  0%|          | 0/396 [00:00<?, ?it/s]"
      ]
     },
     "metadata": {},
     "output_type": "display_data"
    },
    {
     "data": {
      "application/vnd.jupyter.widget-view+json": {
       "model_id": "4e0a72fc56f14847b804f92c5b70ed8e",
       "version_major": 2,
       "version_minor": 0
      },
      "text/plain": [
       "  0%|          | 0/396 [00:00<?, ?it/s]"
      ]
     },
     "metadata": {},
     "output_type": "display_data"
    },
    {
     "data": {
      "application/vnd.jupyter.widget-view+json": {
       "model_id": "28010caa97924f058c79c19f335a106e",
       "version_major": 2,
       "version_minor": 0
      },
      "text/plain": [
       "  0%|          | 0/396 [00:00<?, ?it/s]"
      ]
     },
     "metadata": {},
     "output_type": "display_data"
    },
    {
     "name": "stdout",
     "output_type": "stream",
     "text": [
      "{'Kupicks POF': 0.6179542611619433, 'Haas TBF': 0.19291841936386298, 'Acerbi Szekely 1': 1.9902480840682983, 'Acerbi Szekely 2': 0.005528466776013374} {'Kupicks POF': 0.8527157106323404, 'Haas TBF': 0.13938167305486404, 'Acerbi Szekely 1': 1.9884177446365356, 'Acerbi Szekely 2': 0.0047701941803097725} {'Kupicks POF': 0.05306060164371566, 'Haas TBF': 0.11050158266884827, 'Acerbi Szekely 1': 1.9411417245864868, 'Acerbi Szekely 2': 0.0029411239083856344}\n",
      "Portfolio = 0.1 * BA + 0.1 * KO + 0.1 * ACN + 0.1 * AMD + 0.1 * GE + 0.1 * COP + 0.1 * TMO + 0.1 * MO + 0.1 * NEE + 0.1 * CVX\n"
     ]
    },
    {
     "data": {
      "application/vnd.jupyter.widget-view+json": {
       "model_id": "af64d07a15f040ec9a8443711554480c",
       "version_major": 2,
       "version_minor": 0
      },
      "text/plain": [
       "  0%|          | 0/10 [00:00<?, ?it/s]"
      ]
     },
     "metadata": {},
     "output_type": "display_data"
    },
    {
     "data": {
      "application/vnd.jupyter.widget-view+json": {
       "model_id": "039d098d91fb4d59898193097fd2d72c",
       "version_major": 2,
       "version_minor": 0
      },
      "text/plain": [
       "  0%|          | 0/3000 [00:00<?, ?it/s]"
      ]
     },
     "metadata": {},
     "output_type": "display_data"
    },
    {
     "data": {
      "application/vnd.jupyter.widget-view+json": {
       "model_id": "da61c3aca2b34d938ec2de1a398a5cb0",
       "version_major": 2,
       "version_minor": 0
      },
      "text/plain": [
       "Epochs:   0%|          | 0/31 [00:00<?, ?it/s]"
      ]
     },
     "metadata": {},
     "output_type": "display_data"
    },
    {
     "data": {
      "application/vnd.jupyter.widget-view+json": {
       "model_id": "e316f1e0736044b2a108ca85002cf77f",
       "version_major": 2,
       "version_minor": 0
      },
      "text/plain": [
       "  0%|          | 0/396 [00:00<?, ?it/s]"
      ]
     },
     "metadata": {},
     "output_type": "display_data"
    },
    {
     "data": {
      "application/vnd.jupyter.widget-view+json": {
       "model_id": "5db8783d67e7463fa6bf43b581c4febb",
       "version_major": 2,
       "version_minor": 0
      },
      "text/plain": [
       "  0%|          | 0/396 [00:00<?, ?it/s]"
      ]
     },
     "metadata": {},
     "output_type": "display_data"
    },
    {
     "data": {
      "application/vnd.jupyter.widget-view+json": {
       "model_id": "a705060cf92e4866b4a7a18c49811356",
       "version_major": 2,
       "version_minor": 0
      },
      "text/plain": [
       "  0%|          | 0/396 [00:00<?, ?it/s]"
      ]
     },
     "metadata": {},
     "output_type": "display_data"
    },
    {
     "name": "stdout",
     "output_type": "stream",
     "text": [
      "{'Kupicks POF': 0.6179542611619433, 'Haas TBF': 0.48925550934202866, 'Acerbi Szekely 1': 1.9940742254257202, 'Acerbi Szekely 2': 0.005539095029234886} {'Kupicks POF': 0.8527157106323404, 'Haas TBF': 0.45463739527049646, 'Acerbi Szekely 1': 1.9601109027862549, 'Acerbi Szekely 2': 0.004702286329120398} {'Kupicks POF': 0.6735892621900934, 'Haas TBF': 0.3468611075056942, 'Acerbi Szekely 1': 2.0288949012756348, 'Acerbi Szekely 2': 0.004611124750226736}\n",
      "Portfolio = 0.1 * T + 0.1 * TJX + 0.1 * MS + 0.1 * EOG + 0.1 * BAC + 0.1 * BLK + 0.1 * GS + 0.1 * GOOGL + 0.1 * JNJ + 0.1 * HD\n"
     ]
    },
    {
     "data": {
      "application/vnd.jupyter.widget-view+json": {
       "model_id": "a41653e5c73d41a090ea2fa049ecaa0b",
       "version_major": 2,
       "version_minor": 0
      },
      "text/plain": [
       "  0%|          | 0/10 [00:00<?, ?it/s]"
      ]
     },
     "metadata": {},
     "output_type": "display_data"
    },
    {
     "data": {
      "application/vnd.jupyter.widget-view+json": {
       "model_id": "b69d91076ddc4ccdb82723b66a16c53a",
       "version_major": 2,
       "version_minor": 0
      },
      "text/plain": [
       "  0%|          | 0/3000 [00:00<?, ?it/s]"
      ]
     },
     "metadata": {},
     "output_type": "display_data"
    },
    {
     "data": {
      "application/vnd.jupyter.widget-view+json": {
       "model_id": "d7160e917f534d13ad4d74de89e4b7f0",
       "version_major": 2,
       "version_minor": 0
      },
      "text/plain": [
       "Epochs:   0%|          | 0/31 [00:00<?, ?it/s]"
      ]
     },
     "metadata": {},
     "output_type": "display_data"
    },
    {
     "data": {
      "application/vnd.jupyter.widget-view+json": {
       "model_id": "58afd240c0174ed980f6ac9eee1dbd7f",
       "version_major": 2,
       "version_minor": 0
      },
      "text/plain": [
       "  0%|          | 0/396 [00:00<?, ?it/s]"
      ]
     },
     "metadata": {},
     "output_type": "display_data"
    },
    {
     "data": {
      "application/vnd.jupyter.widget-view+json": {
       "model_id": "dceb06c2c59a46738370b980d9086994",
       "version_major": 2,
       "version_minor": 0
      },
      "text/plain": [
       "  0%|          | 0/396 [00:00<?, ?it/s]"
      ]
     },
     "metadata": {},
     "output_type": "display_data"
    },
    {
     "data": {
      "application/vnd.jupyter.widget-view+json": {
       "model_id": "cc1606e5273349d0ad419d4d9f450027",
       "version_major": 2,
       "version_minor": 0
      },
      "text/plain": [
       "  0%|          | 0/396 [00:00<?, ?it/s]"
      ]
     },
     "metadata": {},
     "output_type": "display_data"
    },
    {
     "name": "stdout",
     "output_type": "stream",
     "text": [
      "{'Kupicks POF': 0.4714130489229066, 'Haas TBF': 0.4988945096055336, 'Acerbi Szekely 1': 1.9708034992218018, 'Acerbi Szekely 2': 0.00572329293936491} {'Kupicks POF': 0.2484438497515893, 'Haas TBF': 0.015751178647513627, 'Acerbi Szekely 1': 2.0816986560821533, 'Acerbi Szekely 2': 0.003942611161619425} {'Kupicks POF': 0.09526169367735082, 'Haas TBF': 0.22196330247159388, 'Acerbi Szekely 1': 2.0709140300750732, 'Acerbi Szekely 2': 0.003399227513000369}\n",
      "Portfolio = 0.1 * CB + 0.1 * RTX + 0.1 * MS + 0.1 * NFLX + 0.1 * PG + 0.1 * XOM + 0.1 * MSFT + 0.1 * MDT + 0.1 * C + 0.1 * VZ\n"
     ]
    },
    {
     "data": {
      "application/vnd.jupyter.widget-view+json": {
       "model_id": "9172172de8614226b7f40ba203bef75b",
       "version_major": 2,
       "version_minor": 0
      },
      "text/plain": [
       "  0%|          | 0/10 [00:00<?, ?it/s]"
      ]
     },
     "metadata": {},
     "output_type": "display_data"
    },
    {
     "data": {
      "application/vnd.jupyter.widget-view+json": {
       "model_id": "16ca53d88b72417aae2d56c475aace32",
       "version_major": 2,
       "version_minor": 0
      },
      "text/plain": [
       "  0%|          | 0/3000 [00:00<?, ?it/s]"
      ]
     },
     "metadata": {},
     "output_type": "display_data"
    },
    {
     "data": {
      "application/vnd.jupyter.widget-view+json": {
       "model_id": "d9c27e90965942b793706731dd5c0195",
       "version_major": 2,
       "version_minor": 0
      },
      "text/plain": [
       "Epochs:   0%|          | 0/31 [00:00<?, ?it/s]"
      ]
     },
     "metadata": {},
     "output_type": "display_data"
    },
    {
     "data": {
      "application/vnd.jupyter.widget-view+json": {
       "model_id": "41e0479d6ba745ed9ae0fec19e4925d8",
       "version_major": 2,
       "version_minor": 0
      },
      "text/plain": [
       "  0%|          | 0/396 [00:00<?, ?it/s]"
      ]
     },
     "metadata": {},
     "output_type": "display_data"
    },
    {
     "data": {
      "application/vnd.jupyter.widget-view+json": {
       "model_id": "fcf5ac296fc54448bd7759744df4e047",
       "version_major": 2,
       "version_minor": 0
      },
      "text/plain": [
       "  0%|          | 0/396 [00:00<?, ?it/s]"
      ]
     },
     "metadata": {},
     "output_type": "display_data"
    },
    {
     "data": {
      "application/vnd.jupyter.widget-view+json": {
       "model_id": "4df14df05f7a48fdbe35f714bb9bbadd",
       "version_major": 2,
       "version_minor": 0
      },
      "text/plain": [
       "  0%|          | 0/396 [00:00<?, ?it/s]"
      ]
     },
     "metadata": {},
     "output_type": "display_data"
    },
    {
     "name": "stdout",
     "output_type": "stream",
     "text": [
      "{'Kupicks POF': 0.012838967431808393, 'Haas TBF': 0.03996308855456492, 'Acerbi Szekely 1': 1.6945527791976929, 'Acerbi Szekely 2': 0.002139586955308914} {'Kupicks POF': 0.15902475231004007, 'Haas TBF': 0.7240770913383486, 'Acerbi Szekely 1': 2.011117935180664, 'Acerbi Szekely 2': 0.003555006580427289} {'Kupicks POF': 0.027280750843974515, 'Haas TBF': 0.6011210401926721, 'Acerbi Szekely 1': 1.9982155561447144, 'Acerbi Szekely 2': 0.0027752993628382683}\n"
     ]
    }
   ],
   "source": [
    "res_timeGrad = list()\n",
    "res_hist = list()\n",
    "res_varcov = list()\n",
    "alpha=0.05\n",
    "RANDOM_STATE = 12\n",
    "\n",
    "for i in range(5):\n",
    "    # one complete cycle\n",
    "    seed_everything(RANDOM_STATE + i)\n",
    "    n_stocks = 10\n",
    "    tickers = np.random.choice(df[\"Ticker\"].unique(), n_stocks, replace=False)\n",
    "    weights = 1/n_stocks\n",
    "    print(\"Portfolio = {0}\".format(\" + \".join([f\"{weights} * {i}\"for i in tickers])))\n",
    "    df_copy = df.loc[df[\"Ticker\"].isin(tickers)].copy(deep=True)\n",
    "\n",
    "    df_returns = compute_individual_returns(df_copy)\n",
    "    df_returns = compute_portfolio_returns(df_returns)\n",
    "\n",
    "    univariate_target = df_returns[\"Return_Target\"]\n",
    "\n",
    "    univariate_target = univariate_target.values[1:]\n",
    "    train_size = df_returns[df_returns.Date <= \"2022-06-01\"].index[-1] + 1\n",
    "    test_size = len(univariate_target) - train_size\n",
    "    train = univariate_target[:train_size]\n",
    "\n",
    "    ss = StandardScaler()\n",
    "    train_scaled = torch.tensor(ss.fit_transform(train.reshape(-1, 1)), dtype=torch.float32)\n",
    "\n",
    "    seed_everything(RANDOM_STATE)\n",
    "    context_size = 90\n",
    "    num_train_samples = 3000\n",
    "    train_data = torch.zeros(num_train_samples, context_size, train_scaled.shape[1])\n",
    "    train_target = torch.zeros(num_train_samples, 1, train_scaled.shape[1])\n",
    "    train_idx = np.random.choice(np.arange(context_size, train_scaled.shape[0]), num_train_samples, replace=False)\n",
    "    \n",
    "    for i in tqdm(range(num_train_samples)):\n",
    "        idx = train_idx[i]\n",
    "        train_context = train_scaled[idx-context_size:idx]\n",
    "        target_obs = train_scaled[idx]\n",
    "        train_data[i] = train_context\n",
    "        train_target[i] = target_obs\n",
    "\n",
    "    # Create DataLoader for ease of torch training\n",
    "    train_loader = DataLoader(TensorDataset(train_data, train_target), batch_size=128, shuffle=False)\n",
    "\n",
    "\n",
    "    temp = torch.tensor(ss.transform(univariate_target.reshape(-1, 1)))\n",
    "    test_data_context = torch.zeros(test_size, context_size, temp.shape[1])\n",
    "    test_data_real = torch.zeros(test_size, 1, temp.shape[1])\n",
    "    for i in range(test_size):\n",
    "        idx = i + train_size\n",
    "        test_data_context[i] = temp[idx-context_size:idx]\n",
    "        test_data_real[i] = temp[idx]\n",
    "\n",
    "    seed_everything(RANDOM_STATE)\n",
    "    sheduler = DDPMScheduler(num_train_timesteps=46, beta_end=0.35878774019831244, clip_sample=False)\n",
    "    model = TimeGrad(1, 1, hidden_size=50, num_layers=2, scheduler=sheduler, num_inference_steps=46)\n",
    "    \n",
    "    \n",
    "    optimizer = torch.optim.Adam(model.parameters(), lr=0.0008985916117829954)\n",
    "    device = \"mps\"\n",
    "    n_epochs = 31\n",
    "    model.to(device);\n",
    "\n",
    "    model.fit(train_loader, optimizer, n_epochs, device)\n",
    "\n",
    "\n",
    "    seed_everything(RANDOM_STATE)\n",
    "    VaR_TimeGrad = torch.zeros(test_data_real.shape[0])\n",
    "    ES_TimeGrad = torch.zeros(test_data_real.shape[0])\n",
    "    \n",
    "    for i in tqdm(range(test_data_real.shape[0])):\n",
    "        test = test_data_context[[i]]\n",
    "        VaR_TimeGrad[i], ES_TimeGrad[i] = estimate_var_es_torch(model, test, alpha=alpha, n_samples=500, device=\"mps\")\n",
    "\n",
    "    res_timeGrad.append(generate_report(test_data_real.flatten(), VaR_TimeGrad, ES_TimeGrad, alpha=alpha))\n",
    "\n",
    "    hist_sim = HistoricalSimulation(alpha=alpha)\n",
    "\n",
    "    VaR_histSim = torch.zeros(test_data_real.shape[0])\n",
    "    ES_histSim = torch.zeros(test_data_real.shape[0])\n",
    "    \n",
    "    for i in tqdm(range(test_data_real.shape[0])):\n",
    "        test = test_data_context[[i]]\n",
    "        VaR_histSim[i], ES_histSim[i] = hist_sim.predict(test)\n",
    "    \n",
    "    res_hist.append(generate_report(test_data_real.flatten(), VaR_histSim, ES_histSim, alpha=alpha))\n",
    "    \n",
    "    var_cov = VarCov(alpha=alpha)\n",
    "    \n",
    "    VaR_varCov = torch.zeros(test_data_real.shape[0])\n",
    "    ES_varCov = torch.zeros(test_data_real.shape[0])\n",
    "    \n",
    "    for i in tqdm(range(test_data_real.shape[0])):\n",
    "        test = test_data_context[[i]]\n",
    "        VaR_varCov[i], ES_varCov[i] = var_cov.predict(test)\n",
    "    \n",
    "    res_varcov.append(generate_report(test_data_real.flatten(), VaR_varCov, ES_varCov, alpha=alpha))\n",
    "\n",
    "    print(res_timeGrad[-1], res_hist[-1], res_varcov[-1])"
   ]
  },
  {
   "cell_type": "code",
   "execution_count": 7,
   "id": "ff076198-4c64-4507-bd5e-3a520b95b41d",
   "metadata": {},
   "outputs": [
    {
     "name": "stdout",
     "output_type": "stream",
     "text": [
      "[0.41711071 0.42433338 1.94789007 0.00463044]\n",
      "[0.47226877 0.29528797 2.00618958 0.00414766]\n",
      "[0.20164341 0.26640992 2.02576871 0.00348413]\n"
     ]
    }
   ],
   "source": [
    "print(np.array([list(i.values()) for i in res_timeGrad]).mean(axis=0))\n",
    "print(np.array([list(i.values()) for i in res_hist]).mean(axis=0))\n",
    "print(np.array([list(i.values()) for i in res_varcov]).mean(axis=0))"
   ]
  }
 ],
 "metadata": {
  "kernelspec": {
   "display_name": "Python 3 (ipykernel)",
   "language": "python",
   "name": "python3"
  },
  "language_info": {
   "codemirror_mode": {
    "name": "ipython",
    "version": 3
   },
   "file_extension": ".py",
   "mimetype": "text/x-python",
   "name": "python",
   "nbconvert_exporter": "python",
   "pygments_lexer": "ipython3",
   "version": "3.12.2"
  }
 },
 "nbformat": 4,
 "nbformat_minor": 5
}
